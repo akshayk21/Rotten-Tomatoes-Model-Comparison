{
 "cells": [
  {
   "cell_type": "markdown",
   "metadata": {},
   "source": [
    "# Attribute Selection: Rotten Tomatoes Dataset"
   ]
  },
  {
   "cell_type": "code",
   "execution_count": 554,
   "metadata": {},
   "outputs": [],
   "source": [
    "import numpy as np\n",
    "import matplotlib.pyplot as plt\n",
    "%matplotlib inline\n",
    "import pandas as pd\n",
    "import statsmodels.api as sm\n",
    "import scipy as ap\n",
    "import os\n",
    "from sklearn.model_selection import train_test_split, cross_validate\n",
    "from sklearn.feature_extraction.text import CountVectorizer\n",
    "from sklearn.metrics import classification_report, confusion_matrix, make_scorer\n",
    "from sklearn.linear_model import LinearRegression, LogisticRegression\n",
    "from sklearn.naive_bayes import MultinomialNB\n",
    "from sklearn.tree import DecisionTreeClassifier\n",
    "from sklearn.ensemble import RandomForestClassifier, AdaBoostClassifier\n",
    "import seaborn as sns"
   ]
  },
  {
   "cell_type": "markdown",
   "metadata": {},
   "source": [
    "## 1. Load data, and separate test data"
   ]
  },
  {
   "cell_type": "code",
   "execution_count": 588,
   "metadata": {},
   "outputs": [],
   "source": [
    "#Loading the data\n",
    "path = os.getcwd()\n",
    "dataPath = path + \"/data/rotten-tomatoes.csv.bz2\"\n",
    "data= pd.read_csv(dataPath)\n",
    "#splitting into train and test parts\n",
    "original_train, test = train_test_split(data, test_size=0.2)\n",
    "\n",
    "#saving the test data to a csv file\n",
    "\n",
    "#index is false, because we don't want the index of \n",
    "#the data frame to be a separate column in the output\n",
    "\n",
    "test.to_csv(path+\"/test.csv\", index=False) \n",
    "\n",
    "#deleting the test data-frame from the memory\n",
    "del test"
   ]
  },
  {
   "cell_type": "markdown",
   "metadata": {},
   "source": [
    "## 2. Explore, clean and transform the data"
   ]
  },
  {
   "cell_type": "code",
   "execution_count": 589,
   "metadata": {},
   "outputs": [
    {
     "data": {
      "text/html": [
       "<div>\n",
       "<style scoped>\n",
       "    .dataframe tbody tr th:only-of-type {\n",
       "        vertical-align: middle;\n",
       "    }\n",
       "\n",
       "    .dataframe tbody tr th {\n",
       "        vertical-align: top;\n",
       "    }\n",
       "\n",
       "    .dataframe thead th {\n",
       "        text-align: right;\n",
       "    }\n",
       "</style>\n",
       "<table border=\"1\" class=\"dataframe\">\n",
       "  <thead>\n",
       "    <tr style=\"text-align: right;\">\n",
       "      <th></th>\n",
       "      <th>critic</th>\n",
       "      <th>fresh</th>\n",
       "      <th>imdb</th>\n",
       "      <th>link</th>\n",
       "      <th>publication</th>\n",
       "      <th>quote</th>\n",
       "      <th>review_date</th>\n",
       "      <th>rtid</th>\n",
       "      <th>title</th>\n",
       "    </tr>\n",
       "  </thead>\n",
       "  <tbody>\n",
       "    <tr>\n",
       "      <th>4867</th>\n",
       "      <td>Variety Staff</td>\n",
       "      <td>fresh</td>\n",
       "      <td>50083</td>\n",
       "      <td>http://www.variety.com/review/VE1117795934.htm...</td>\n",
       "      <td>Variety</td>\n",
       "      <td>The film leaves a tremendous impact.</td>\n",
       "      <td>2008-06-30 00:00:00</td>\n",
       "      <td>18108</td>\n",
       "      <td>12 Angry Men (Twelve Angry Men)</td>\n",
       "    </tr>\n",
       "    <tr>\n",
       "      <th>8463</th>\n",
       "      <td>Dave Kehr</td>\n",
       "      <td>fresh</td>\n",
       "      <td>53285</td>\n",
       "      <td>http://onfilm.chicagoreader.com/movies/capsule...</td>\n",
       "      <td>Chicago Reader</td>\n",
       "      <td>The masterpiece of the Disney Studios' postwar...</td>\n",
       "      <td>2008-09-03 00:00:00</td>\n",
       "      <td>21442</td>\n",
       "      <td>Sleeping Beauty</td>\n",
       "    </tr>\n",
       "    <tr>\n",
       "      <th>4216</th>\n",
       "      <td>Todd McCarthy</td>\n",
       "      <td>fresh</td>\n",
       "      <td>116404</td>\n",
       "      <td>http://www.variety.com/review/VE1117905658.htm...</td>\n",
       "      <td>Variety</td>\n",
       "      <td>A vital regeneration of a filmmaker's talent a...</td>\n",
       "      <td>2008-09-24 00:00:00</td>\n",
       "      <td>14585</td>\n",
       "      <td>Get on the Bus</td>\n",
       "    </tr>\n",
       "    <tr>\n",
       "      <th>6560</th>\n",
       "      <td>Desson Thomson</td>\n",
       "      <td>rotten</td>\n",
       "      <td>118884</td>\n",
       "      <td>http://www.washingtonpost.com/wp-srv/style/lon...</td>\n",
       "      <td>Washington Post</td>\n",
       "      <td>While the movie doesn't qualify as an awful wa...</td>\n",
       "      <td>2000-01-01 00:00:00</td>\n",
       "      <td>10172</td>\n",
       "      <td>Contact</td>\n",
       "    </tr>\n",
       "    <tr>\n",
       "      <th>10852</th>\n",
       "      <td>Janet Maslin</td>\n",
       "      <td>fresh</td>\n",
       "      <td>125439</td>\n",
       "      <td>http://movies.nytimes.com/movie/review?res=9D0...</td>\n",
       "      <td>New York Times</td>\n",
       "      <td>The movie has lots of glossy charm!</td>\n",
       "      <td>2000-01-01 00:00:00</td>\n",
       "      <td>10110</td>\n",
       "      <td>Notting Hill</td>\n",
       "    </tr>\n",
       "  </tbody>\n",
       "</table>\n",
       "</div>"
      ],
      "text/plain": [
       "               critic   fresh    imdb  \\\n",
       "4867    Variety Staff   fresh   50083   \n",
       "8463        Dave Kehr   fresh   53285   \n",
       "4216    Todd McCarthy   fresh  116404   \n",
       "6560   Desson Thomson  rotten  118884   \n",
       "10852    Janet Maslin   fresh  125439   \n",
       "\n",
       "                                                    link      publication  \\\n",
       "4867   http://www.variety.com/review/VE1117795934.htm...          Variety   \n",
       "8463   http://onfilm.chicagoreader.com/movies/capsule...   Chicago Reader   \n",
       "4216   http://www.variety.com/review/VE1117905658.htm...          Variety   \n",
       "6560   http://www.washingtonpost.com/wp-srv/style/lon...  Washington Post   \n",
       "10852  http://movies.nytimes.com/movie/review?res=9D0...   New York Times   \n",
       "\n",
       "                                                   quote          review_date  \\\n",
       "4867                The film leaves a tremendous impact.  2008-06-30 00:00:00   \n",
       "8463   The masterpiece of the Disney Studios' postwar...  2008-09-03 00:00:00   \n",
       "4216   A vital regeneration of a filmmaker's talent a...  2008-09-24 00:00:00   \n",
       "6560   While the movie doesn't qualify as an awful wa...  2000-01-01 00:00:00   \n",
       "10852                The movie has lots of glossy charm!  2000-01-01 00:00:00   \n",
       "\n",
       "        rtid                            title  \n",
       "4867   18108  12 Angry Men (Twelve Angry Men)  \n",
       "8463   21442                  Sleeping Beauty  \n",
       "4216   14585                   Get on the Bus  \n",
       "6560   10172                          Contact  \n",
       "10852  10110                     Notting Hill  "
      ]
     },
     "execution_count": 589,
     "metadata": {},
     "output_type": "execute_result"
    }
   ],
   "source": [
    "#Seeing the first few lines of the data\n",
    "original_train.head()"
   ]
  },
  {
   "cell_type": "code",
   "execution_count": 590,
   "metadata": {},
   "outputs": [
    {
     "name": "stdout",
     "output_type": "stream",
     "text": [
      "Data type of all the columns:\n",
      "\n",
      " critic         object\n",
      "fresh          object\n",
      "imdb            int64\n",
      "link           object\n",
      "publication    object\n",
      "quote          object\n",
      "review_date    object\n",
      "rtid            int64\n",
      "title          object\n",
      "dtype: object\n"
     ]
    }
   ],
   "source": [
    "print(\"Data type of all the columns:\\n\\n\",original_train.dtypes)"
   ]
  },
  {
   "cell_type": "code",
   "execution_count": 591,
   "metadata": {},
   "outputs": [
    {
     "name": "stdout",
     "output_type": "stream",
     "text": [
      "Number of missings for variable fresh: 22\n",
      "Number of missings for variable quote: 0\n",
      "\n",
      "Different values for fresh/rotten evaluations:\n",
      " fresh     6636\n",
      "rotten    4095\n",
      "none        22\n",
      "Name: fresh, dtype: int64\n",
      "\n",
      "Different values for fresh/rotten evaluations in percentage:\n",
      " fresh     61.713010\n",
      "rotten    38.082396\n",
      "none       0.204594\n",
      "Name: fresh, dtype: float64\n",
      "\n",
      "Number of zero-length quotes: 0\n",
      "\n",
      "Number of only whitespace quotes: 0\n",
      "\n",
      "Maximum number of words in a quote: 49\n",
      "Minimum number of words in a quote: 1\n",
      "Mean number of words in a quote: 20.131312191946435\n",
      "\n",
      "Number of duplicated reviews: 377\n"
     ]
    }
   ],
   "source": [
    "#a) number of missings for fresh and quote\n",
    "print(\"Number of missings for variable fresh:\", sum(original_train.fresh == \"none\"))\n",
    "print(\"Number of missings for variable quote:\", sum(original_train.quote == \"none\"))\n",
    "\n",
    "#b) all different values for fresh/rotten evaluations \n",
    "print(\"\\nDifferent values for fresh/rotten evaluations:\\n\", original_train.fresh.value_counts())\n",
    "\n",
    "#c) counts or percentages of these values\n",
    "print(\"\\nDifferent values for fresh/rotten evaluations in percentage:\\n\", \n",
    "      original_train.fresh.value_counts(normalize=True)*100)\n",
    "\n",
    "#d) number of zero-length or only whitespace quote-s\n",
    "print(\"\\nNumber of zero-length quotes:\", np.sum(original_train['quote'].str.len()==0))\n",
    "print(\"\\nNumber of only whitespace quotes:\", np.sum(original_train['quote'].str.isspace()))\n",
    "\n",
    "#e) minimum-maximum-average length of quotes (either in words, or in characters).\n",
    "print(\"\\nMaximum number of words in a quote:\", np.max(original_train['quote'].str.split().str.len()))\n",
    "print(\"Minimum number of words in a quote:\", np.min(original_train['quote'].str.split().str.len()))\n",
    "print(\"Mean number of words in a quote:\", np.mean(original_train['quote'].str.split().str.len()))\n",
    "\n",
    "#f) how many reviews are in data multiple times\n",
    "print(\"\\nNumber of duplicated reviews:\", original_train.quote.duplicated().sum())\n"
   ]
  },
  {
   "cell_type": "code",
   "execution_count": 592,
   "metadata": {},
   "outputs": [],
   "source": [
    "#This function cleans the data by removing all the inconsistencies\n",
    "#the table reveals ensuring that the central variables, quote and fresh, are not missing, and\n",
    "#quote is not an empty string (or just contain spaces and such).\n",
    "\n",
    "def cleanData(x):\n",
    "    #replacing all the only white-space values in the quote column in the data with none\n",
    "    x['quote'] = np.where(x['quote'].str.isspace()==True, 'none', x['quote'])\n",
    "\n",
    "    #replacing all the \"none\" values in the training data with NaN\n",
    "    x = x.replace(\"none\",np.nan)\n",
    "\n",
    "    x = x.dropna()\n",
    "    \n",
    "    \n",
    "    #remove unnecessary variables critic, imdb, link, publication\n",
    "    #review_date, rtid and title\n",
    "    x = x.drop(labels = [\"critic\", \"imdb\", \"link\", \"publication\", \"review_date\", \"rtid\", \"title\"],\n",
    "              axis = 1)\n",
    "    \n",
    "    #We also have to rename \"fresh\" columns as \"fresh/rotten\" because we will be using bag of words features later\n",
    "    #and it may contain the actual word \"fresh\"\n",
    "\n",
    "    x = x.rename(index=str, columns=({'fresh':'freshOrRotten'}))\n",
    "    \n",
    "    return x"
   ]
  },
  {
   "cell_type": "code",
   "execution_count": 593,
   "metadata": {},
   "outputs": [],
   "source": [
    "#cleaning the train data\n",
    "original_train = cleanData(original_train)"
   ]
  },
  {
   "cell_type": "code",
   "execution_count": 594,
   "metadata": {},
   "outputs": [
    {
     "name": "stdout",
     "output_type": "stream",
     "text": [
      "\n",
      "Different values for fresh/rotten evaluations in percentage:\n",
      " fresh     61.790136\n",
      "rotten    38.209864\n",
      "Name: freshOrRotten, dtype: float64\n"
     ]
    }
   ],
   "source": [
    "print(\"\\nDifferent values for fresh/rotten evaluations in percentage:\\n\", \n",
    "      original_train.freshOrRotten.value_counts(normalize=True)*100)"
   ]
  },
  {
   "cell_type": "markdown",
   "metadata": {},
   "source": [
    "* To extablish the baseline for Naive Bayes, we determine the percentages of number of \"fresh\" reviews and the number of \"rotten\" reviews. If we were to predict the reviews as fresh or rotten, we would not consider the effect of any other feature. Therefore, there is an almost 64% chance of a review being fresh irrespective of the affect of any other feature. This is the baseline accuracy of the model."
   ]
  },
  {
   "cell_type": "code",
   "execution_count": 595,
   "metadata": {},
   "outputs": [],
   "source": [
    "# getting all the quotes\n",
    "train = original_train\n",
    "a = train[\"quote\"]\n",
    "\n",
    "vec = CountVectorizer(binary=True)\n",
    "x = vec.fit_transform(a)\n",
    "\n",
    "#Constructing a new data frame where each row corresponds to each review, and the features\n",
    "#are all the words on the bag of words\n",
    "bowDF = pd.DataFrame(x.toarray())\n",
    "bowDF.columns = vec.get_feature_names()\n",
    "\n",
    "#Concating the train data with this bag of words data frame\n",
    "train = pd.concat([train[\"freshOrRotten\"].reset_index(drop=True),bowDF], axis = 1)#,ignore_index=True)"
   ]
  },
  {
   "cell_type": "code",
   "execution_count": 596,
   "metadata": {},
   "outputs": [
    {
     "name": "stdout",
     "output_type": "stream",
     "text": [
      "Shape of our new training set containing the Bag of Words: (10178, 18315)\n"
     ]
    }
   ],
   "source": [
    "print(\"Shape of our new training set containing the Bag of Words:\",train.shape)\n",
    "\n",
    "#Encoding the fresh column of the train data as 1 for fresh and 0 for rotten\n",
    "train[\"freshOrRotten\"] = np.where(train[\"freshOrRotten\"]==\"fresh\",1,0)"
   ]
  },
  {
   "cell_type": "markdown",
   "metadata": {},
   "source": [
    "## 3. Linear Models"
   ]
  },
  {
   "cell_type": "markdown",
   "metadata": {},
   "source": [
    "### 3.1 Linear Regression"
   ]
  },
  {
   "cell_type": "code",
   "execution_count": 597,
   "metadata": {},
   "outputs": [],
   "source": [
    "#I am sampling the data because the entire training data is too much for my computer to handle\n",
    "sampleTrain = train.sample(n=1000, random_state=1)\n",
    "y = sampleTrain[\"freshOrRotten\"]\n",
    "X = sampleTrain.drop(\"freshOrRotten\",axis=1)"
   ]
  },
  {
   "cell_type": "code",
   "execution_count": 598,
   "metadata": {},
   "outputs": [],
   "source": [
    "def calculateAccuracyScore(yTrue, yPredicted):\n",
    "    \n",
    "    yPredicted = np.asarray(yPredicted)\n",
    "    yTrue = np.asarray(yTrue)\n",
    "    \n",
    "    #Through the linear model we have calculated the probabilities\n",
    "    #If the probability is >0.5 or 50%, then the review is predicted to be fresh (1)\n",
    "    #else it is predicted to be rotten(0). The following line make this conversion\n",
    "    yPredicted = np.where(yPredicted > 0.5, 1, 0)\n",
    "    \n",
    "    truePositives = 0\n",
    "    falsePositives = 0\n",
    "    trueNegatives = 0\n",
    "    falseNegatives = 0\n",
    "     \n",
    "    # Caclculating the confusion matrix    \n",
    "    for i in range(0, len(yTrue)):\n",
    "        if (yPredicted[i] == 1):\n",
    "            if (yPredicted[i] == yTrue[i]):\n",
    "                truePositives += 1\n",
    "            else:\n",
    "                falsePositives += 1\n",
    "        else:\n",
    "            if (yPredicted[i] == yTrue[i]):\n",
    "                trueNegatives += 1\n",
    "            else:\n",
    "                falseNegatives += 1\n",
    "    \n",
    "    # Caclculating the accuracy\n",
    "    accuracy = (truePositives + trueNegatives) / (truePositives + trueNegatives + falsePositives + falseNegatives)    \n",
    "    return accuracy"
   ]
  },
  {
   "cell_type": "code",
   "execution_count": 599,
   "metadata": {},
   "outputs": [],
   "source": [
    "#Make a scorer from a performance metric or loss function.\n",
    "score = make_scorer(calculateAccuracyScore, greater_is_better=True)"
   ]
  },
  {
   "cell_type": "code",
   "execution_count": 600,
   "metadata": {},
   "outputs": [],
   "source": [
    "m = LinearRegression().fit(X, y)"
   ]
  },
  {
   "cell_type": "code",
   "execution_count": 601,
   "metadata": {},
   "outputs": [],
   "source": [
    "#Calculating the cross-validation results\n",
    "results = cross_validate(m,     #The object to use to fit the data. This must be from the scikit-learn library only.\n",
    "                         X,     #Features in the dataset\n",
    "                         y,     #Predictor variable; \"freshOrRotten\" variable in the dataset\n",
    "                         scoring=score, #supplying your own accuracy function for scoring\n",
    "                         cv=5, #for stratified n-fold\n",
    "                         return_train_score=False) #Not including train scores"
   ]
  },
  {
   "cell_type": "code",
   "execution_count": 602,
   "metadata": {},
   "outputs": [
    {
     "name": "stdout",
     "output_type": "stream",
     "text": [
      "Accuracy of linear model for 5-fold cross-validation: 0.664\n"
     ]
    }
   ],
   "source": [
    "print(\"Accuracy of linear model for 5-fold cross-validation:\",np.mean(results['test_score']))"
   ]
  },
  {
   "cell_type": "markdown",
   "metadata": {},
   "source": [
    "* Thus, from above we find that the mean accuracy of this linear model to be about 63.3%. It is also important to note here that the accuracy will slightly improve if we use more number of rows in our train data while training our model. Currently, I have only taken about a 1000 rows to train the model due to limited computing power of my Macbook Air."
   ]
  },
  {
   "cell_type": "markdown",
   "metadata": {},
   "source": [
    "### 3.2 Logistic regression"
   ]
  },
  {
   "cell_type": "code",
   "execution_count": 603,
   "metadata": {},
   "outputs": [],
   "source": [
    "#I am ssampling the data because the entire training data is too much for my computer to handle\n",
    "mLog = LogisticRegression(C=np.inf, solver=\"lbfgs\").fit(X, y)"
   ]
  },
  {
   "cell_type": "code",
   "execution_count": 604,
   "metadata": {},
   "outputs": [],
   "source": [
    "resultsLog = cross_validate(mLog, #The object to use to fit the data. This must be from the scikit-learn library only.\n",
    "                         X,     #Features in the dataset\n",
    "                         y,     #Predictor variable; \"freshOrRotten\" variable in the dataset\n",
    "                         scoring=score, #supplying your own accuracy function for scoring\n",
    "                         cv=5, #for stratified n-fold\n",
    "                         return_train_score=False) #Not including train scores"
   ]
  },
  {
   "cell_type": "code",
   "execution_count": 605,
   "metadata": {},
   "outputs": [
    {
     "name": "stdout",
     "output_type": "stream",
     "text": [
      "Accuracy of logistic model for 5-fold cross-validation: 0.671956798919973\n"
     ]
    }
   ],
   "source": [
    "print(\"Accuracy of logistic model for 5-fold cross-validation:\",np.mean(resultsLog['test_score']))"
   ]
  },
  {
   "cell_type": "markdown",
   "metadata": {},
   "source": [
    "### 3.3 Forward selection"
   ]
  },
  {
   "cell_type": "code",
   "execution_count": 606,
   "metadata": {},
   "outputs": [],
   "source": [
    "#xFS = X\n",
    "#yFS = y"
   ]
  },
  {
   "cell_type": "code",
   "execution_count": 662,
   "metadata": {},
   "outputs": [
    {
     "data": {
      "text/html": [
       "<div>\n",
       "<style scoped>\n",
       "    .dataframe tbody tr th:only-of-type {\n",
       "        vertical-align: middle;\n",
       "    }\n",
       "\n",
       "    .dataframe tbody tr th {\n",
       "        vertical-align: top;\n",
       "    }\n",
       "\n",
       "    .dataframe thead th {\n",
       "        text-align: right;\n",
       "    }\n",
       "</style>\n",
       "<table border=\"1\" class=\"dataframe\">\n",
       "  <thead>\n",
       "    <tr style=\"text-align: right;\">\n",
       "      <th></th>\n",
       "      <th>000</th>\n",
       "      <th>0014</th>\n",
       "      <th>007</th>\n",
       "      <th>044</th>\n",
       "      <th>07</th>\n",
       "      <th>10</th>\n",
       "      <th>100</th>\n",
       "      <th>101</th>\n",
       "      <th>104</th>\n",
       "      <th>108</th>\n",
       "      <th>...</th>\n",
       "      <th>zone</th>\n",
       "      <th>zoning</th>\n",
       "      <th>zooming</th>\n",
       "      <th>zooms</th>\n",
       "      <th>zorro</th>\n",
       "      <th>zorros</th>\n",
       "      <th>zowie</th>\n",
       "      <th>zweibel</th>\n",
       "      <th>zwick</th>\n",
       "      <th>zzzzzzzzz</th>\n",
       "    </tr>\n",
       "  </thead>\n",
       "  <tbody>\n",
       "    <tr>\n",
       "      <th>941</th>\n",
       "      <td>0</td>\n",
       "      <td>0</td>\n",
       "      <td>0</td>\n",
       "      <td>0</td>\n",
       "      <td>0</td>\n",
       "      <td>0</td>\n",
       "      <td>0</td>\n",
       "      <td>0</td>\n",
       "      <td>0</td>\n",
       "      <td>0</td>\n",
       "      <td>...</td>\n",
       "      <td>0</td>\n",
       "      <td>0</td>\n",
       "      <td>0</td>\n",
       "      <td>0</td>\n",
       "      <td>0</td>\n",
       "      <td>0</td>\n",
       "      <td>0</td>\n",
       "      <td>0</td>\n",
       "      <td>0</td>\n",
       "      <td>0</td>\n",
       "    </tr>\n",
       "    <tr>\n",
       "      <th>3079</th>\n",
       "      <td>0</td>\n",
       "      <td>0</td>\n",
       "      <td>0</td>\n",
       "      <td>0</td>\n",
       "      <td>0</td>\n",
       "      <td>0</td>\n",
       "      <td>0</td>\n",
       "      <td>0</td>\n",
       "      <td>0</td>\n",
       "      <td>0</td>\n",
       "      <td>...</td>\n",
       "      <td>0</td>\n",
       "      <td>0</td>\n",
       "      <td>0</td>\n",
       "      <td>0</td>\n",
       "      <td>0</td>\n",
       "      <td>0</td>\n",
       "      <td>0</td>\n",
       "      <td>0</td>\n",
       "      <td>0</td>\n",
       "      <td>0</td>\n",
       "    </tr>\n",
       "    <tr>\n",
       "      <th>1868</th>\n",
       "      <td>0</td>\n",
       "      <td>0</td>\n",
       "      <td>0</td>\n",
       "      <td>0</td>\n",
       "      <td>0</td>\n",
       "      <td>0</td>\n",
       "      <td>0</td>\n",
       "      <td>0</td>\n",
       "      <td>0</td>\n",
       "      <td>0</td>\n",
       "      <td>...</td>\n",
       "      <td>0</td>\n",
       "      <td>0</td>\n",
       "      <td>0</td>\n",
       "      <td>0</td>\n",
       "      <td>0</td>\n",
       "      <td>0</td>\n",
       "      <td>0</td>\n",
       "      <td>0</td>\n",
       "      <td>0</td>\n",
       "      <td>0</td>\n",
       "    </tr>\n",
       "    <tr>\n",
       "      <th>4405</th>\n",
       "      <td>0</td>\n",
       "      <td>0</td>\n",
       "      <td>0</td>\n",
       "      <td>0</td>\n",
       "      <td>0</td>\n",
       "      <td>0</td>\n",
       "      <td>0</td>\n",
       "      <td>0</td>\n",
       "      <td>0</td>\n",
       "      <td>0</td>\n",
       "      <td>...</td>\n",
       "      <td>0</td>\n",
       "      <td>0</td>\n",
       "      <td>0</td>\n",
       "      <td>0</td>\n",
       "      <td>0</td>\n",
       "      <td>0</td>\n",
       "      <td>0</td>\n",
       "      <td>0</td>\n",
       "      <td>0</td>\n",
       "      <td>0</td>\n",
       "    </tr>\n",
       "    <tr>\n",
       "      <th>4434</th>\n",
       "      <td>0</td>\n",
       "      <td>0</td>\n",
       "      <td>0</td>\n",
       "      <td>0</td>\n",
       "      <td>0</td>\n",
       "      <td>0</td>\n",
       "      <td>0</td>\n",
       "      <td>0</td>\n",
       "      <td>0</td>\n",
       "      <td>0</td>\n",
       "      <td>...</td>\n",
       "      <td>0</td>\n",
       "      <td>0</td>\n",
       "      <td>0</td>\n",
       "      <td>0</td>\n",
       "      <td>0</td>\n",
       "      <td>0</td>\n",
       "      <td>0</td>\n",
       "      <td>0</td>\n",
       "      <td>0</td>\n",
       "      <td>0</td>\n",
       "    </tr>\n",
       "  </tbody>\n",
       "</table>\n",
       "<p>5 rows × 18314 columns</p>\n",
       "</div>"
      ],
      "text/plain": [
       "      000  0014  007  044  07  10  100  101  104  108    ...      zone  \\\n",
       "941     0     0    0    0   0   0    0    0    0    0    ...         0   \n",
       "3079    0     0    0    0   0   0    0    0    0    0    ...         0   \n",
       "1868    0     0    0    0   0   0    0    0    0    0    ...         0   \n",
       "4405    0     0    0    0   0   0    0    0    0    0    ...         0   \n",
       "4434    0     0    0    0   0   0    0    0    0    0    ...         0   \n",
       "\n",
       "      zoning  zooming  zooms  zorro  zorros  zowie  zweibel  zwick  zzzzzzzzz  \n",
       "941        0        0      0      0       0      0        0      0          0  \n",
       "3079       0        0      0      0       0      0        0      0          0  \n",
       "1868       0        0      0      0       0      0        0      0          0  \n",
       "4405       0        0      0      0       0      0        0      0          0  \n",
       "4434       0        0      0      0       0      0        0      0          0  \n",
       "\n",
       "[5 rows x 18314 columns]"
      ]
     },
     "execution_count": 662,
     "metadata": {},
     "output_type": "execute_result"
    }
   ],
   "source": [
    "xFS.head()"
   ]
  },
  {
   "cell_type": "code",
   "execution_count": 686,
   "metadata": {},
   "outputs": [],
   "source": [
    "def bestFeature(addedFeatures, remainingFeatures):\n",
    "    \n",
    "    #This function selects the best feature based on CV accuracy\n",
    "    \n",
    "    #Input\n",
    "    #y: The target variable\n",
    "    #added_features: The features already added to the model\n",
    "    #remaining_features: The features from the dataset yet to be added to the model\n",
    "    \n",
    "    #Output:\n",
    "    #The feature from the remaining list which on being added to the model gets a higher accuracy\n",
    "    \n",
    "    feature = [] #Empty list to store the feature name\n",
    "    accuracy = [] #Empty list to store the accuracy\n",
    "    \n",
    "    for i in remainingFeatures:\n",
    "        \n",
    "        #Adding each feature from the remaining list\n",
    "        f = xFS[addedFeatures + [i]]\n",
    "        mLog = LogisticRegression(C=np.inf, verbose=False, solver=\"lbfgs\").fit(f, yFS)\n",
    "        \n",
    "        #Perform k-fold validation to get the mean loss and r-squared\n",
    "        resultsLog = cross_validate(mLog, #The object to use to fit the data.\n",
    "                         f,           #Features in the dataset\n",
    "                         yFS,           #Predictor variable; \"freshOrRotten\" variable in the dataset\n",
    "                         scoring=score, #supplying your own accuracy function for scoring\n",
    "                         cv=5,          #for stratified n-fold\n",
    "                         return_train_score=False)\n",
    "        \n",
    "        #Store the results for each variable\n",
    "        feature.append(i)\n",
    "        accuracy.append(np.mean(resultsLog['test_score']))\n",
    "    \n",
    "    data = pd.DataFrame({'features': feature,\n",
    "                        'accuracy':accuracy})\n",
    "\n",
    "\n",
    "    #returning the best model\n",
    "    bestModel = data.iloc[data[\"accuracy\"].idxmax()]\n",
    "    return bestModel[0], bestModel[1]"
   ]
  },
  {
   "cell_type": "code",
   "execution_count": 688,
   "metadata": {},
   "outputs": [
    {
     "ename": "KeyboardInterrupt",
     "evalue": "",
     "output_type": "error",
     "traceback": [
      "\u001b[0;31m---------------------------------------------------------------------------\u001b[0m",
      "\u001b[0;31mKeyboardInterrupt\u001b[0m                         Traceback (most recent call last)",
      "\u001b[0;32m<ipython-input-688-dbd21e331033>\u001b[0m in \u001b[0;36m<module>\u001b[0;34m\u001b[0m\n\u001b[1;32m     11\u001b[0m \u001b[0;34m\u001b[0m\u001b[0m\n\u001b[1;32m     12\u001b[0m     \u001b[0;31m#Get the best features\u001b[0m\u001b[0;34m\u001b[0m\u001b[0;34m\u001b[0m\u001b[0;34m\u001b[0m\u001b[0m\n\u001b[0;32m---> 13\u001b[0;31m     \u001b[0mbestFeatureFromFunction\u001b[0m\u001b[0;34m,\u001b[0m \u001b[0mbestAccuracy\u001b[0m \u001b[0;34m=\u001b[0m \u001b[0mbestFeature\u001b[0m\u001b[0;34m(\u001b[0m\u001b[0maddedFeatures\u001b[0m\u001b[0;34m,\u001b[0m \u001b[0mfeatures\u001b[0m\u001b[0;34m)\u001b[0m\u001b[0;34m\u001b[0m\u001b[0;34m\u001b[0m\u001b[0m\n\u001b[0m\u001b[1;32m     14\u001b[0m \u001b[0;34m\u001b[0m\u001b[0m\n\u001b[1;32m     15\u001b[0m     \u001b[0;31m#Add the best feature to list\u001b[0m\u001b[0;34m\u001b[0m\u001b[0;34m\u001b[0m\u001b[0;34m\u001b[0m\u001b[0m\n",
      "\u001b[0;32m<ipython-input-686-78aa791f328f>\u001b[0m in \u001b[0;36mbestFeature\u001b[0;34m(addedFeatures, remainingFeatures)\u001b[0m\n\u001b[1;32m     18\u001b[0m         \u001b[0;31m#Adding each feature from the remaining list\u001b[0m\u001b[0;34m\u001b[0m\u001b[0;34m\u001b[0m\u001b[0;34m\u001b[0m\u001b[0m\n\u001b[1;32m     19\u001b[0m         \u001b[0mf\u001b[0m \u001b[0;34m=\u001b[0m \u001b[0mxFS\u001b[0m\u001b[0;34m[\u001b[0m\u001b[0maddedFeatures\u001b[0m \u001b[0;34m+\u001b[0m \u001b[0;34m[\u001b[0m\u001b[0mi\u001b[0m\u001b[0;34m]\u001b[0m\u001b[0;34m]\u001b[0m\u001b[0;34m\u001b[0m\u001b[0;34m\u001b[0m\u001b[0m\n\u001b[0;32m---> 20\u001b[0;31m         \u001b[0mmLog\u001b[0m \u001b[0;34m=\u001b[0m \u001b[0mLogisticRegression\u001b[0m\u001b[0;34m(\u001b[0m\u001b[0mC\u001b[0m\u001b[0;34m=\u001b[0m\u001b[0mnp\u001b[0m\u001b[0;34m.\u001b[0m\u001b[0minf\u001b[0m\u001b[0;34m,\u001b[0m \u001b[0mverbose\u001b[0m\u001b[0;34m=\u001b[0m\u001b[0;32mFalse\u001b[0m\u001b[0;34m,\u001b[0m \u001b[0msolver\u001b[0m\u001b[0;34m=\u001b[0m\u001b[0;34m\"lbfgs\"\u001b[0m\u001b[0;34m)\u001b[0m\u001b[0;34m.\u001b[0m\u001b[0mfit\u001b[0m\u001b[0;34m(\u001b[0m\u001b[0mf\u001b[0m\u001b[0;34m,\u001b[0m \u001b[0myFS\u001b[0m\u001b[0;34m)\u001b[0m\u001b[0;34m\u001b[0m\u001b[0;34m\u001b[0m\u001b[0m\n\u001b[0m\u001b[1;32m     21\u001b[0m \u001b[0;34m\u001b[0m\u001b[0m\n\u001b[1;32m     22\u001b[0m         \u001b[0;31m#Perform k-fold validation to get the mean loss and r-squared\u001b[0m\u001b[0;34m\u001b[0m\u001b[0;34m\u001b[0m\u001b[0;34m\u001b[0m\u001b[0m\n",
      "\u001b[0;32m~/anaconda3/lib/python3.7/site-packages/sklearn/linear_model/logistic.py\u001b[0m in \u001b[0;36mfit\u001b[0;34m(self, X, y, sample_weight)\u001b[0m\n\u001b[1;32m   1358\u001b[0m                       \u001b[0mmax_squared_sum\u001b[0m\u001b[0;34m=\u001b[0m\u001b[0mmax_squared_sum\u001b[0m\u001b[0;34m,\u001b[0m\u001b[0;34m\u001b[0m\u001b[0;34m\u001b[0m\u001b[0m\n\u001b[1;32m   1359\u001b[0m                       sample_weight=sample_weight)\n\u001b[0;32m-> 1360\u001b[0;31m             for class_, warm_start_coef_ in zip(classes_, warm_start_coef))\n\u001b[0m\u001b[1;32m   1361\u001b[0m \u001b[0;34m\u001b[0m\u001b[0m\n\u001b[1;32m   1362\u001b[0m         \u001b[0mfold_coefs_\u001b[0m\u001b[0;34m,\u001b[0m \u001b[0m_\u001b[0m\u001b[0;34m,\u001b[0m \u001b[0mn_iter_\u001b[0m \u001b[0;34m=\u001b[0m \u001b[0mzip\u001b[0m\u001b[0;34m(\u001b[0m\u001b[0;34m*\u001b[0m\u001b[0mfold_coefs_\u001b[0m\u001b[0;34m)\u001b[0m\u001b[0;34m\u001b[0m\u001b[0;34m\u001b[0m\u001b[0m\n",
      "\u001b[0;32m~/anaconda3/lib/python3.7/site-packages/sklearn/externals/joblib/parallel.py\u001b[0m in \u001b[0;36m__call__\u001b[0;34m(self, iterable)\u001b[0m\n\u001b[1;32m    915\u001b[0m             \u001b[0;31m# remaining jobs.\u001b[0m\u001b[0;34m\u001b[0m\u001b[0;34m\u001b[0m\u001b[0;34m\u001b[0m\u001b[0m\n\u001b[1;32m    916\u001b[0m             \u001b[0mself\u001b[0m\u001b[0;34m.\u001b[0m\u001b[0m_iterating\u001b[0m \u001b[0;34m=\u001b[0m \u001b[0;32mFalse\u001b[0m\u001b[0;34m\u001b[0m\u001b[0;34m\u001b[0m\u001b[0m\n\u001b[0;32m--> 917\u001b[0;31m             \u001b[0;32mif\u001b[0m \u001b[0mself\u001b[0m\u001b[0;34m.\u001b[0m\u001b[0mdispatch_one_batch\u001b[0m\u001b[0;34m(\u001b[0m\u001b[0miterator\u001b[0m\u001b[0;34m)\u001b[0m\u001b[0;34m:\u001b[0m\u001b[0;34m\u001b[0m\u001b[0;34m\u001b[0m\u001b[0m\n\u001b[0m\u001b[1;32m    918\u001b[0m                 \u001b[0mself\u001b[0m\u001b[0;34m.\u001b[0m\u001b[0m_iterating\u001b[0m \u001b[0;34m=\u001b[0m \u001b[0mself\u001b[0m\u001b[0;34m.\u001b[0m\u001b[0m_original_iterator\u001b[0m \u001b[0;32mis\u001b[0m \u001b[0;32mnot\u001b[0m \u001b[0;32mNone\u001b[0m\u001b[0;34m\u001b[0m\u001b[0;34m\u001b[0m\u001b[0m\n\u001b[1;32m    919\u001b[0m \u001b[0;34m\u001b[0m\u001b[0m\n",
      "\u001b[0;32m~/anaconda3/lib/python3.7/site-packages/sklearn/externals/joblib/parallel.py\u001b[0m in \u001b[0;36mdispatch_one_batch\u001b[0;34m(self, iterator)\u001b[0m\n\u001b[1;32m    757\u001b[0m                 \u001b[0;32mreturn\u001b[0m \u001b[0;32mFalse\u001b[0m\u001b[0;34m\u001b[0m\u001b[0;34m\u001b[0m\u001b[0m\n\u001b[1;32m    758\u001b[0m             \u001b[0;32melse\u001b[0m\u001b[0;34m:\u001b[0m\u001b[0;34m\u001b[0m\u001b[0;34m\u001b[0m\u001b[0m\n\u001b[0;32m--> 759\u001b[0;31m                 \u001b[0mself\u001b[0m\u001b[0;34m.\u001b[0m\u001b[0m_dispatch\u001b[0m\u001b[0;34m(\u001b[0m\u001b[0mtasks\u001b[0m\u001b[0;34m)\u001b[0m\u001b[0;34m\u001b[0m\u001b[0;34m\u001b[0m\u001b[0m\n\u001b[0m\u001b[1;32m    760\u001b[0m                 \u001b[0;32mreturn\u001b[0m \u001b[0;32mTrue\u001b[0m\u001b[0;34m\u001b[0m\u001b[0;34m\u001b[0m\u001b[0m\n\u001b[1;32m    761\u001b[0m \u001b[0;34m\u001b[0m\u001b[0m\n",
      "\u001b[0;32m~/anaconda3/lib/python3.7/site-packages/sklearn/externals/joblib/parallel.py\u001b[0m in \u001b[0;36m_dispatch\u001b[0;34m(self, batch)\u001b[0m\n\u001b[1;32m    714\u001b[0m         \u001b[0;32mwith\u001b[0m \u001b[0mself\u001b[0m\u001b[0;34m.\u001b[0m\u001b[0m_lock\u001b[0m\u001b[0;34m:\u001b[0m\u001b[0;34m\u001b[0m\u001b[0;34m\u001b[0m\u001b[0m\n\u001b[1;32m    715\u001b[0m             \u001b[0mjob_idx\u001b[0m \u001b[0;34m=\u001b[0m \u001b[0mlen\u001b[0m\u001b[0;34m(\u001b[0m\u001b[0mself\u001b[0m\u001b[0;34m.\u001b[0m\u001b[0m_jobs\u001b[0m\u001b[0;34m)\u001b[0m\u001b[0;34m\u001b[0m\u001b[0;34m\u001b[0m\u001b[0m\n\u001b[0;32m--> 716\u001b[0;31m             \u001b[0mjob\u001b[0m \u001b[0;34m=\u001b[0m \u001b[0mself\u001b[0m\u001b[0;34m.\u001b[0m\u001b[0m_backend\u001b[0m\u001b[0;34m.\u001b[0m\u001b[0mapply_async\u001b[0m\u001b[0;34m(\u001b[0m\u001b[0mbatch\u001b[0m\u001b[0;34m,\u001b[0m \u001b[0mcallback\u001b[0m\u001b[0;34m=\u001b[0m\u001b[0mcb\u001b[0m\u001b[0;34m)\u001b[0m\u001b[0;34m\u001b[0m\u001b[0;34m\u001b[0m\u001b[0m\n\u001b[0m\u001b[1;32m    717\u001b[0m             \u001b[0;31m# A job can complete so quickly than its callback is\u001b[0m\u001b[0;34m\u001b[0m\u001b[0;34m\u001b[0m\u001b[0;34m\u001b[0m\u001b[0m\n\u001b[1;32m    718\u001b[0m             \u001b[0;31m# called before we get here, causing self._jobs to\u001b[0m\u001b[0;34m\u001b[0m\u001b[0;34m\u001b[0m\u001b[0;34m\u001b[0m\u001b[0m\n",
      "\u001b[0;32m~/anaconda3/lib/python3.7/site-packages/sklearn/externals/joblib/_parallel_backends.py\u001b[0m in \u001b[0;36mapply_async\u001b[0;34m(self, func, callback)\u001b[0m\n\u001b[1;32m    180\u001b[0m     \u001b[0;32mdef\u001b[0m \u001b[0mapply_async\u001b[0m\u001b[0;34m(\u001b[0m\u001b[0mself\u001b[0m\u001b[0;34m,\u001b[0m \u001b[0mfunc\u001b[0m\u001b[0;34m,\u001b[0m \u001b[0mcallback\u001b[0m\u001b[0;34m=\u001b[0m\u001b[0;32mNone\u001b[0m\u001b[0;34m)\u001b[0m\u001b[0;34m:\u001b[0m\u001b[0;34m\u001b[0m\u001b[0;34m\u001b[0m\u001b[0m\n\u001b[1;32m    181\u001b[0m         \u001b[0;34m\"\"\"Schedule a func to be run\"\"\"\u001b[0m\u001b[0;34m\u001b[0m\u001b[0;34m\u001b[0m\u001b[0m\n\u001b[0;32m--> 182\u001b[0;31m         \u001b[0mresult\u001b[0m \u001b[0;34m=\u001b[0m \u001b[0mImmediateResult\u001b[0m\u001b[0;34m(\u001b[0m\u001b[0mfunc\u001b[0m\u001b[0;34m)\u001b[0m\u001b[0;34m\u001b[0m\u001b[0;34m\u001b[0m\u001b[0m\n\u001b[0m\u001b[1;32m    183\u001b[0m         \u001b[0;32mif\u001b[0m \u001b[0mcallback\u001b[0m\u001b[0;34m:\u001b[0m\u001b[0;34m\u001b[0m\u001b[0;34m\u001b[0m\u001b[0m\n\u001b[1;32m    184\u001b[0m             \u001b[0mcallback\u001b[0m\u001b[0;34m(\u001b[0m\u001b[0mresult\u001b[0m\u001b[0;34m)\u001b[0m\u001b[0;34m\u001b[0m\u001b[0;34m\u001b[0m\u001b[0m\n",
      "\u001b[0;32m~/anaconda3/lib/python3.7/site-packages/sklearn/externals/joblib/_parallel_backends.py\u001b[0m in \u001b[0;36m__init__\u001b[0;34m(self, batch)\u001b[0m\n\u001b[1;32m    547\u001b[0m         \u001b[0;31m# Don't delay the application, to avoid keeping the input\u001b[0m\u001b[0;34m\u001b[0m\u001b[0;34m\u001b[0m\u001b[0;34m\u001b[0m\u001b[0m\n\u001b[1;32m    548\u001b[0m         \u001b[0;31m# arguments in memory\u001b[0m\u001b[0;34m\u001b[0m\u001b[0;34m\u001b[0m\u001b[0;34m\u001b[0m\u001b[0m\n\u001b[0;32m--> 549\u001b[0;31m         \u001b[0mself\u001b[0m\u001b[0;34m.\u001b[0m\u001b[0mresults\u001b[0m \u001b[0;34m=\u001b[0m \u001b[0mbatch\u001b[0m\u001b[0;34m(\u001b[0m\u001b[0;34m)\u001b[0m\u001b[0;34m\u001b[0m\u001b[0;34m\u001b[0m\u001b[0m\n\u001b[0m\u001b[1;32m    550\u001b[0m \u001b[0;34m\u001b[0m\u001b[0m\n\u001b[1;32m    551\u001b[0m     \u001b[0;32mdef\u001b[0m \u001b[0mget\u001b[0m\u001b[0;34m(\u001b[0m\u001b[0mself\u001b[0m\u001b[0;34m)\u001b[0m\u001b[0;34m:\u001b[0m\u001b[0;34m\u001b[0m\u001b[0;34m\u001b[0m\u001b[0m\n",
      "\u001b[0;32m~/anaconda3/lib/python3.7/site-packages/sklearn/externals/joblib/parallel.py\u001b[0m in \u001b[0;36m__call__\u001b[0;34m(self)\u001b[0m\n\u001b[1;32m    223\u001b[0m         \u001b[0;32mwith\u001b[0m \u001b[0mparallel_backend\u001b[0m\u001b[0;34m(\u001b[0m\u001b[0mself\u001b[0m\u001b[0;34m.\u001b[0m\u001b[0m_backend\u001b[0m\u001b[0;34m,\u001b[0m \u001b[0mn_jobs\u001b[0m\u001b[0;34m=\u001b[0m\u001b[0mself\u001b[0m\u001b[0;34m.\u001b[0m\u001b[0m_n_jobs\u001b[0m\u001b[0;34m)\u001b[0m\u001b[0;34m:\u001b[0m\u001b[0;34m\u001b[0m\u001b[0;34m\u001b[0m\u001b[0m\n\u001b[1;32m    224\u001b[0m             return [func(*args, **kwargs)\n\u001b[0;32m--> 225\u001b[0;31m                     for func, args, kwargs in self.items]\n\u001b[0m\u001b[1;32m    226\u001b[0m \u001b[0;34m\u001b[0m\u001b[0m\n\u001b[1;32m    227\u001b[0m     \u001b[0;32mdef\u001b[0m \u001b[0m__len__\u001b[0m\u001b[0;34m(\u001b[0m\u001b[0mself\u001b[0m\u001b[0;34m)\u001b[0m\u001b[0;34m:\u001b[0m\u001b[0;34m\u001b[0m\u001b[0;34m\u001b[0m\u001b[0m\n",
      "\u001b[0;32m~/anaconda3/lib/python3.7/site-packages/sklearn/externals/joblib/parallel.py\u001b[0m in \u001b[0;36m<listcomp>\u001b[0;34m(.0)\u001b[0m\n\u001b[1;32m    223\u001b[0m         \u001b[0;32mwith\u001b[0m \u001b[0mparallel_backend\u001b[0m\u001b[0;34m(\u001b[0m\u001b[0mself\u001b[0m\u001b[0;34m.\u001b[0m\u001b[0m_backend\u001b[0m\u001b[0;34m,\u001b[0m \u001b[0mn_jobs\u001b[0m\u001b[0;34m=\u001b[0m\u001b[0mself\u001b[0m\u001b[0;34m.\u001b[0m\u001b[0m_n_jobs\u001b[0m\u001b[0;34m)\u001b[0m\u001b[0;34m:\u001b[0m\u001b[0;34m\u001b[0m\u001b[0;34m\u001b[0m\u001b[0m\n\u001b[1;32m    224\u001b[0m             return [func(*args, **kwargs)\n\u001b[0;32m--> 225\u001b[0;31m                     for func, args, kwargs in self.items]\n\u001b[0m\u001b[1;32m    226\u001b[0m \u001b[0;34m\u001b[0m\u001b[0m\n\u001b[1;32m    227\u001b[0m     \u001b[0;32mdef\u001b[0m \u001b[0m__len__\u001b[0m\u001b[0;34m(\u001b[0m\u001b[0mself\u001b[0m\u001b[0;34m)\u001b[0m\u001b[0;34m:\u001b[0m\u001b[0;34m\u001b[0m\u001b[0;34m\u001b[0m\u001b[0m\n",
      "\u001b[0;32m~/anaconda3/lib/python3.7/site-packages/sklearn/linear_model/logistic.py\u001b[0m in \u001b[0;36mlogistic_regression_path\u001b[0;34m(X, y, pos_class, Cs, fit_intercept, max_iter, tol, verbose, solver, coef, class_weight, dual, penalty, intercept_scaling, multi_class, random_state, check_input, max_squared_sum, sample_weight)\u001b[0m\n\u001b[1;32m    753\u001b[0m                 \u001b[0mfunc\u001b[0m\u001b[0;34m,\u001b[0m \u001b[0mw0\u001b[0m\u001b[0;34m,\u001b[0m \u001b[0mfprime\u001b[0m\u001b[0;34m=\u001b[0m\u001b[0;32mNone\u001b[0m\u001b[0;34m,\u001b[0m\u001b[0;34m\u001b[0m\u001b[0;34m\u001b[0m\u001b[0m\n\u001b[1;32m    754\u001b[0m                 \u001b[0margs\u001b[0m\u001b[0;34m=\u001b[0m\u001b[0;34m(\u001b[0m\u001b[0mX\u001b[0m\u001b[0;34m,\u001b[0m \u001b[0mtarget\u001b[0m\u001b[0;34m,\u001b[0m \u001b[0;36m1.\u001b[0m \u001b[0;34m/\u001b[0m \u001b[0mC\u001b[0m\u001b[0;34m,\u001b[0m \u001b[0msample_weight\u001b[0m\u001b[0;34m)\u001b[0m\u001b[0;34m,\u001b[0m\u001b[0;34m\u001b[0m\u001b[0;34m\u001b[0m\u001b[0m\n\u001b[0;32m--> 755\u001b[0;31m                 iprint=iprint, pgtol=tol, maxiter=max_iter)\n\u001b[0m\u001b[1;32m    756\u001b[0m             \u001b[0;32mif\u001b[0m \u001b[0minfo\u001b[0m\u001b[0;34m[\u001b[0m\u001b[0;34m\"warnflag\"\u001b[0m\u001b[0;34m]\u001b[0m \u001b[0;34m==\u001b[0m \u001b[0;36m1\u001b[0m\u001b[0;34m:\u001b[0m\u001b[0;34m\u001b[0m\u001b[0;34m\u001b[0m\u001b[0m\n\u001b[1;32m    757\u001b[0m                 warnings.warn(\"lbfgs failed to converge. Increase the number \"\n",
      "\u001b[0;32m~/anaconda3/lib/python3.7/site-packages/scipy/optimize/lbfgsb.py\u001b[0m in \u001b[0;36mfmin_l_bfgs_b\u001b[0;34m(func, x0, fprime, args, approx_grad, bounds, m, factr, pgtol, epsilon, iprint, maxfun, maxiter, disp, callback, maxls)\u001b[0m\n\u001b[1;32m    197\u001b[0m \u001b[0;34m\u001b[0m\u001b[0m\n\u001b[1;32m    198\u001b[0m     res = _minimize_lbfgsb(fun, x0, args=args, jac=jac, bounds=bounds,\n\u001b[0;32m--> 199\u001b[0;31m                            **opts)\n\u001b[0m\u001b[1;32m    200\u001b[0m     d = {'grad': res['jac'],\n\u001b[1;32m    201\u001b[0m          \u001b[0;34m'task'\u001b[0m\u001b[0;34m:\u001b[0m \u001b[0mres\u001b[0m\u001b[0;34m[\u001b[0m\u001b[0;34m'message'\u001b[0m\u001b[0;34m]\u001b[0m\u001b[0;34m,\u001b[0m\u001b[0;34m\u001b[0m\u001b[0;34m\u001b[0m\u001b[0m\n",
      "\u001b[0;32m~/anaconda3/lib/python3.7/site-packages/scipy/optimize/lbfgsb.py\u001b[0m in \u001b[0;36m_minimize_lbfgsb\u001b[0;34m(fun, x0, args, jac, bounds, disp, maxcor, ftol, gtol, eps, maxfun, maxiter, iprint, callback, maxls, **unknown_options)\u001b[0m\n\u001b[1;32m    333\u001b[0m             \u001b[0;31m# until the completion of the current minimization iteration.\u001b[0m\u001b[0;34m\u001b[0m\u001b[0;34m\u001b[0m\u001b[0;34m\u001b[0m\u001b[0m\n\u001b[1;32m    334\u001b[0m             \u001b[0;31m# Overwrite f and g:\u001b[0m\u001b[0;34m\u001b[0m\u001b[0;34m\u001b[0m\u001b[0;34m\u001b[0m\u001b[0m\n\u001b[0;32m--> 335\u001b[0;31m             \u001b[0mf\u001b[0m\u001b[0;34m,\u001b[0m \u001b[0mg\u001b[0m \u001b[0;34m=\u001b[0m \u001b[0mfunc_and_grad\u001b[0m\u001b[0;34m(\u001b[0m\u001b[0mx\u001b[0m\u001b[0;34m)\u001b[0m\u001b[0;34m\u001b[0m\u001b[0;34m\u001b[0m\u001b[0m\n\u001b[0m\u001b[1;32m    336\u001b[0m         \u001b[0;32melif\u001b[0m \u001b[0mtask_str\u001b[0m\u001b[0;34m.\u001b[0m\u001b[0mstartswith\u001b[0m\u001b[0;34m(\u001b[0m\u001b[0;34mb'NEW_X'\u001b[0m\u001b[0;34m)\u001b[0m\u001b[0;34m:\u001b[0m\u001b[0;34m\u001b[0m\u001b[0;34m\u001b[0m\u001b[0m\n\u001b[1;32m    337\u001b[0m             \u001b[0;31m# new iteration\u001b[0m\u001b[0;34m\u001b[0m\u001b[0;34m\u001b[0m\u001b[0;34m\u001b[0m\u001b[0m\n",
      "\u001b[0;32m~/anaconda3/lib/python3.7/site-packages/scipy/optimize/lbfgsb.py\u001b[0m in \u001b[0;36mfunc_and_grad\u001b[0;34m(x)\u001b[0m\n\u001b[1;32m    283\u001b[0m     \u001b[0;32melse\u001b[0m\u001b[0;34m:\u001b[0m\u001b[0;34m\u001b[0m\u001b[0;34m\u001b[0m\u001b[0m\n\u001b[1;32m    284\u001b[0m         \u001b[0;32mdef\u001b[0m \u001b[0mfunc_and_grad\u001b[0m\u001b[0;34m(\u001b[0m\u001b[0mx\u001b[0m\u001b[0;34m)\u001b[0m\u001b[0;34m:\u001b[0m\u001b[0;34m\u001b[0m\u001b[0;34m\u001b[0m\u001b[0m\n\u001b[0;32m--> 285\u001b[0;31m             \u001b[0mf\u001b[0m \u001b[0;34m=\u001b[0m \u001b[0mfun\u001b[0m\u001b[0;34m(\u001b[0m\u001b[0mx\u001b[0m\u001b[0;34m,\u001b[0m \u001b[0;34m*\u001b[0m\u001b[0margs\u001b[0m\u001b[0;34m)\u001b[0m\u001b[0;34m\u001b[0m\u001b[0;34m\u001b[0m\u001b[0m\n\u001b[0m\u001b[1;32m    286\u001b[0m             \u001b[0mg\u001b[0m \u001b[0;34m=\u001b[0m \u001b[0mjac\u001b[0m\u001b[0;34m(\u001b[0m\u001b[0mx\u001b[0m\u001b[0;34m,\u001b[0m \u001b[0;34m*\u001b[0m\u001b[0margs\u001b[0m\u001b[0;34m)\u001b[0m\u001b[0;34m\u001b[0m\u001b[0;34m\u001b[0m\u001b[0m\n\u001b[1;32m    287\u001b[0m             \u001b[0;32mreturn\u001b[0m \u001b[0mf\u001b[0m\u001b[0;34m,\u001b[0m \u001b[0mg\u001b[0m\u001b[0;34m\u001b[0m\u001b[0;34m\u001b[0m\u001b[0m\n",
      "\u001b[0;32m~/anaconda3/lib/python3.7/site-packages/scipy/optimize/optimize.py\u001b[0m in \u001b[0;36mfunction_wrapper\u001b[0;34m(*wrapper_args)\u001b[0m\n\u001b[1;32m    291\u001b[0m     \u001b[0;32mdef\u001b[0m \u001b[0mfunction_wrapper\u001b[0m\u001b[0;34m(\u001b[0m\u001b[0;34m*\u001b[0m\u001b[0mwrapper_args\u001b[0m\u001b[0;34m)\u001b[0m\u001b[0;34m:\u001b[0m\u001b[0;34m\u001b[0m\u001b[0;34m\u001b[0m\u001b[0m\n\u001b[1;32m    292\u001b[0m         \u001b[0mncalls\u001b[0m\u001b[0;34m[\u001b[0m\u001b[0;36m0\u001b[0m\u001b[0;34m]\u001b[0m \u001b[0;34m+=\u001b[0m \u001b[0;36m1\u001b[0m\u001b[0;34m\u001b[0m\u001b[0;34m\u001b[0m\u001b[0m\n\u001b[0;32m--> 293\u001b[0;31m         \u001b[0;32mreturn\u001b[0m \u001b[0mfunction\u001b[0m\u001b[0;34m(\u001b[0m\u001b[0;34m*\u001b[0m\u001b[0;34m(\u001b[0m\u001b[0mwrapper_args\u001b[0m \u001b[0;34m+\u001b[0m \u001b[0margs\u001b[0m\u001b[0;34m)\u001b[0m\u001b[0;34m)\u001b[0m\u001b[0;34m\u001b[0m\u001b[0;34m\u001b[0m\u001b[0m\n\u001b[0m\u001b[1;32m    294\u001b[0m \u001b[0;34m\u001b[0m\u001b[0m\n\u001b[1;32m    295\u001b[0m     \u001b[0;32mreturn\u001b[0m \u001b[0mncalls\u001b[0m\u001b[0;34m,\u001b[0m \u001b[0mfunction_wrapper\u001b[0m\u001b[0;34m\u001b[0m\u001b[0;34m\u001b[0m\u001b[0m\n",
      "\u001b[0;32m~/anaconda3/lib/python3.7/site-packages/scipy/optimize/optimize.py\u001b[0m in \u001b[0;36m__call__\u001b[0;34m(self, x, *args)\u001b[0m\n\u001b[1;32m     61\u001b[0m     \u001b[0;32mdef\u001b[0m \u001b[0m__call__\u001b[0m\u001b[0;34m(\u001b[0m\u001b[0mself\u001b[0m\u001b[0;34m,\u001b[0m \u001b[0mx\u001b[0m\u001b[0;34m,\u001b[0m \u001b[0;34m*\u001b[0m\u001b[0margs\u001b[0m\u001b[0;34m)\u001b[0m\u001b[0;34m:\u001b[0m\u001b[0;34m\u001b[0m\u001b[0;34m\u001b[0m\u001b[0m\n\u001b[1;32m     62\u001b[0m         \u001b[0mself\u001b[0m\u001b[0;34m.\u001b[0m\u001b[0mx\u001b[0m \u001b[0;34m=\u001b[0m \u001b[0mnumpy\u001b[0m\u001b[0;34m.\u001b[0m\u001b[0masarray\u001b[0m\u001b[0;34m(\u001b[0m\u001b[0mx\u001b[0m\u001b[0;34m)\u001b[0m\u001b[0;34m.\u001b[0m\u001b[0mcopy\u001b[0m\u001b[0;34m(\u001b[0m\u001b[0;34m)\u001b[0m\u001b[0;34m\u001b[0m\u001b[0;34m\u001b[0m\u001b[0m\n\u001b[0;32m---> 63\u001b[0;31m         \u001b[0mfg\u001b[0m \u001b[0;34m=\u001b[0m \u001b[0mself\u001b[0m\u001b[0;34m.\u001b[0m\u001b[0mfun\u001b[0m\u001b[0;34m(\u001b[0m\u001b[0mx\u001b[0m\u001b[0;34m,\u001b[0m \u001b[0;34m*\u001b[0m\u001b[0margs\u001b[0m\u001b[0;34m)\u001b[0m\u001b[0;34m\u001b[0m\u001b[0;34m\u001b[0m\u001b[0m\n\u001b[0m\u001b[1;32m     64\u001b[0m         \u001b[0mself\u001b[0m\u001b[0;34m.\u001b[0m\u001b[0mjac\u001b[0m \u001b[0;34m=\u001b[0m \u001b[0mfg\u001b[0m\u001b[0;34m[\u001b[0m\u001b[0;36m1\u001b[0m\u001b[0;34m]\u001b[0m\u001b[0;34m\u001b[0m\u001b[0;34m\u001b[0m\u001b[0m\n\u001b[1;32m     65\u001b[0m         \u001b[0;32mreturn\u001b[0m \u001b[0mfg\u001b[0m\u001b[0;34m[\u001b[0m\u001b[0;36m0\u001b[0m\u001b[0;34m]\u001b[0m\u001b[0;34m\u001b[0m\u001b[0;34m\u001b[0m\u001b[0m\n",
      "\u001b[0;32m~/anaconda3/lib/python3.7/site-packages/sklearn/linear_model/logistic.py\u001b[0m in \u001b[0;36m_logistic_loss_and_grad\u001b[0;34m(w, X, y, alpha, sample_weight)\u001b[0m\n\u001b[1;32m    117\u001b[0m \u001b[0;34m\u001b[0m\u001b[0m\n\u001b[1;32m    118\u001b[0m     \u001b[0;31m# Logistic loss is the negative of the log of the logistic function.\u001b[0m\u001b[0;34m\u001b[0m\u001b[0;34m\u001b[0m\u001b[0;34m\u001b[0m\u001b[0m\n\u001b[0;32m--> 119\u001b[0;31m     \u001b[0mout\u001b[0m \u001b[0;34m=\u001b[0m \u001b[0;34m-\u001b[0m\u001b[0mnp\u001b[0m\u001b[0;34m.\u001b[0m\u001b[0msum\u001b[0m\u001b[0;34m(\u001b[0m\u001b[0msample_weight\u001b[0m \u001b[0;34m*\u001b[0m \u001b[0mlog_logistic\u001b[0m\u001b[0;34m(\u001b[0m\u001b[0myz\u001b[0m\u001b[0;34m)\u001b[0m\u001b[0;34m)\u001b[0m \u001b[0;34m+\u001b[0m \u001b[0;36m.5\u001b[0m \u001b[0;34m*\u001b[0m \u001b[0malpha\u001b[0m \u001b[0;34m*\u001b[0m \u001b[0mnp\u001b[0m\u001b[0;34m.\u001b[0m\u001b[0mdot\u001b[0m\u001b[0;34m(\u001b[0m\u001b[0mw\u001b[0m\u001b[0;34m,\u001b[0m \u001b[0mw\u001b[0m\u001b[0;34m)\u001b[0m\u001b[0;34m\u001b[0m\u001b[0;34m\u001b[0m\u001b[0m\n\u001b[0m\u001b[1;32m    120\u001b[0m \u001b[0;34m\u001b[0m\u001b[0m\n\u001b[1;32m    121\u001b[0m     \u001b[0mz\u001b[0m \u001b[0;34m=\u001b[0m \u001b[0mexpit\u001b[0m\u001b[0;34m(\u001b[0m\u001b[0myz\u001b[0m\u001b[0;34m)\u001b[0m\u001b[0;34m\u001b[0m\u001b[0;34m\u001b[0m\u001b[0m\n",
      "\u001b[0;32m~/anaconda3/lib/python3.7/site-packages/sklearn/utils/extmath.py\u001b[0m in \u001b[0;36mlog_logistic\u001b[0;34m(X, out)\u001b[0m\n\u001b[1;32m    611\u001b[0m     \u001b[0mis_1d\u001b[0m \u001b[0;34m=\u001b[0m \u001b[0mX\u001b[0m\u001b[0;34m.\u001b[0m\u001b[0mndim\u001b[0m \u001b[0;34m==\u001b[0m \u001b[0;36m1\u001b[0m\u001b[0;34m\u001b[0m\u001b[0;34m\u001b[0m\u001b[0m\n\u001b[1;32m    612\u001b[0m     \u001b[0mX\u001b[0m \u001b[0;34m=\u001b[0m \u001b[0mnp\u001b[0m\u001b[0;34m.\u001b[0m\u001b[0matleast_2d\u001b[0m\u001b[0;34m(\u001b[0m\u001b[0mX\u001b[0m\u001b[0;34m)\u001b[0m\u001b[0;34m\u001b[0m\u001b[0;34m\u001b[0m\u001b[0m\n\u001b[0;32m--> 613\u001b[0;31m     \u001b[0mX\u001b[0m \u001b[0;34m=\u001b[0m \u001b[0mcheck_array\u001b[0m\u001b[0;34m(\u001b[0m\u001b[0mX\u001b[0m\u001b[0;34m,\u001b[0m \u001b[0mdtype\u001b[0m\u001b[0;34m=\u001b[0m\u001b[0mnp\u001b[0m\u001b[0;34m.\u001b[0m\u001b[0mfloat64\u001b[0m\u001b[0;34m)\u001b[0m\u001b[0;34m\u001b[0m\u001b[0;34m\u001b[0m\u001b[0m\n\u001b[0m\u001b[1;32m    614\u001b[0m \u001b[0;34m\u001b[0m\u001b[0m\n\u001b[1;32m    615\u001b[0m     \u001b[0mn_samples\u001b[0m\u001b[0;34m,\u001b[0m \u001b[0mn_features\u001b[0m \u001b[0;34m=\u001b[0m \u001b[0mX\u001b[0m\u001b[0;34m.\u001b[0m\u001b[0mshape\u001b[0m\u001b[0;34m\u001b[0m\u001b[0;34m\u001b[0m\u001b[0m\n",
      "\u001b[0;32m~/anaconda3/lib/python3.7/site-packages/sklearn/utils/validation.py\u001b[0m in \u001b[0;36mcheck_array\u001b[0;34m(array, accept_sparse, accept_large_sparse, dtype, order, copy, force_all_finite, ensure_2d, allow_nd, ensure_min_samples, ensure_min_features, warn_on_dtype, estimator)\u001b[0m\n\u001b[1;32m    528\u001b[0m             \u001b[0;32mexcept\u001b[0m \u001b[0mComplexWarning\u001b[0m\u001b[0;34m:\u001b[0m\u001b[0;34m\u001b[0m\u001b[0;34m\u001b[0m\u001b[0m\n\u001b[1;32m    529\u001b[0m                 raise ValueError(\"Complex data not supported\\n\"\n\u001b[0;32m--> 530\u001b[0;31m                                  \"{}\\n\".format(array))\n\u001b[0m\u001b[1;32m    531\u001b[0m \u001b[0;34m\u001b[0m\u001b[0m\n\u001b[1;32m    532\u001b[0m         \u001b[0;31m# It is possible that the np.array(..) gave no warning. This happens\u001b[0m\u001b[0;34m\u001b[0m\u001b[0;34m\u001b[0m\u001b[0;34m\u001b[0m\u001b[0m\n",
      "\u001b[0;31mKeyboardInterrupt\u001b[0m: "
     ]
    }
   ],
   "source": [
    "#import warnings\n",
    "#warnings.filterwarnings(\"ignore\")\n",
    "\n",
    "features = list(X.columns)\n",
    "addedFeatures = []\n",
    "forwardFeatureList = []\n",
    "accuracy = []\n",
    "temp = \"\"\n",
    "\n",
    "for i in range(0,len(xFS.columns)-1):\n",
    "    \n",
    "    #Get the best features\n",
    "    bestFeatureFromFunction, bestAccuracy = bestFeature(addedFeatures, features)\n",
    "    \n",
    "    #Add the best feature to list\n",
    "    addedFeatures.append(bestFeatureFromFunction)\n",
    "    \n",
    "    #Remove used from list of features\n",
    "    features.remove(bestFeatureFromFunction)   \n",
    "    \n",
    "    f = xFS[addedFeatures]\n",
    "    mLog = LogisticRegression(C=np.inf, verbose=False, solver=\"lbfgs\").fit(f, yFS)\n",
    "    \n",
    "    resultsLog = cross_validate(mLog, #The object to use to fit the data.\n",
    "                         f,           #Features in the dataset\n",
    "                         yFS,           #Predictor variable; \"freshOrRotten\" variable in the dataset\n",
    "                         scoring=score, #supplying your own accuracy function for scoring\n",
    "                         cv=5,          #for stratified n-fold\n",
    "                         return_train_score=False) #Not including train scores\n",
    "    \n",
    "    accuracy.append(np.mean(resultsLog['test_score']))\n",
    "    forwardFeatureList.append(addedFeatures)\n",
    "    \n",
    "    if(len(addedFeatures)>500):\n",
    "        break\n",
    "    \n",
    "forwardSelection = pd.DataFrame({'Features': forwardFeatureList,\n",
    "                                 'Accuracy': accuracy})\n",
    "\n",
    "print(\"Feature with maximum accuracy during forward selection:\\n\",\n",
    "      forwardSelection.iloc[forwardSelection[\"Accuracy\"].idxmax()])"
   ]
  },
  {
   "cell_type": "markdown",
   "metadata": {},
   "source": [
    "Theoretically, we should see a slight improvement in the accuracy than as compared to a simple logistic model. I have included a hard condition in the program such that if the nuber of features exceeds 500, the program will stop. This function kept running for about 6 hours on my computer when I had to interrupt the kernel manually. Forward selection is excruciatingly slow."
   ]
  },
  {
   "cell_type": "markdown",
   "metadata": {},
   "source": [
    "### 3.4 Ridge and Lasso"
   ]
  },
  {
   "cell_type": "code",
   "execution_count": 630,
   "metadata": {},
   "outputs": [
    {
     "data": {
      "text/plain": [
       "[1e-05, 0.0001, 0.001, 0.01, 0.1, 1.0, 10.0, 100.0, 1000.0, 10000.0, 100000.0]"
      ]
     },
     "execution_count": 630,
     "metadata": {},
     "output_type": "execute_result"
    }
   ],
   "source": [
    "#Lambda values\n",
    "lambdaValues = [round(1e-5 * 10**i,6) for i in range(11)]\n",
    "#The two regularization types Ridge(l2) and Lasso(l1)\n",
    "regularizationType = [\"l1\", \"l2\"]\n",
    "lambdaValues"
   ]
  },
  {
   "cell_type": "code",
   "execution_count": 631,
   "metadata": {},
   "outputs": [
    {
     "data": {
      "text/plain": [
       "['l1', 'l2']"
      ]
     },
     "execution_count": 631,
     "metadata": {},
     "output_type": "execute_result"
    }
   ],
   "source": [
    "regularizationType"
   ]
  },
  {
   "cell_type": "code",
   "execution_count": 632,
   "metadata": {},
   "outputs": [],
   "source": [
    "\n",
    "accuracy = []                #Empty list to store accuracy\n",
    "lambdaValuesList=[]          #Empty list to store lambda values\n",
    "regularizationTypeList=[]    #Empty list to store regularization types\n",
    "\n",
    "#The following code caluclates the logistic regression, and it's CV accuracy\n",
    "#for different penalty types (Ridge/Lasso) and parameter values (lambda).\n",
    "\n",
    "for i in regularizationType:\n",
    "    for j in lambdaValues:\n",
    "        mLog = LogisticRegression(C=1/j, #C is Inverse of regularization strength. Thus, C = 1/lamda\n",
    "                                  penalty=i).fit(X, y) #Penalty is the type of regularization\n",
    "    \n",
    "        resultsLog = cross_validate(mLog, #The object to use to fit the data.This must be from the sk library only.\n",
    "                             X,           #Features in the dataset\n",
    "                             y,           #Predictor variable; \"freshOrRotten\" variable in the dataset\n",
    "                             scoring=score, #supplying your own accuracy function for scoring\n",
    "                             cv=5,          #for stratified n-fold\n",
    "                             return_train_score=False) #Not including train scores\n",
    "        accuracy.append(np.mean(resultsLog['test_score']))\n",
    "        lambdaValuesList.append(j)\n",
    "        regularizationTypeList.append(i)"
   ]
  },
  {
   "cell_type": "code",
   "execution_count": 633,
   "metadata": {
    "scrolled": false
   },
   "outputs": [
    {
     "name": "stdout",
     "output_type": "stream",
     "text": [
      "The accuracy for ridge/lasso regularizations over the various lambda:\n",
      "    RegularizationType        Lambda  Accuracy\n",
      "0                  l1       0.00001  0.676052\n",
      "1                  l1       0.00010  0.679982\n",
      "2                  l1       0.00100  0.655012\n",
      "3                  l1       0.01000  0.646982\n",
      "4                  l1       0.10000  0.643992\n",
      "5                  l1       1.00000  0.663007\n",
      "6                  l1      10.00000  0.612001\n",
      "7                  l1     100.00000  0.388999\n",
      "8                  l1    1000.00000  0.388999\n",
      "9                  l1   10000.00000  0.388999\n",
      "10                 l1  100000.00000  0.388999\n",
      "11                 l2       0.00001  0.668942\n",
      "12                 l2       0.00010  0.674927\n",
      "13                 l2       0.00100  0.671947\n",
      "14                 l2       0.01000  0.671952\n",
      "15                 l2       0.10000  0.672942\n",
      "16                 l2       1.00000  0.676002\n",
      "17                 l2      10.00000  0.658027\n",
      "18                 l2     100.00000  0.615011\n",
      "19                 l2    1000.00000  0.611001\n",
      "20                 l2   10000.00000  0.611001\n",
      "21                 l2  100000.00000  0.611001\n",
      "\n",
      "\n",
      "Best accuracy for Lasso:\n",
      " RegularizationType          l1\n",
      "Lambda                  0.0001\n",
      "Accuracy              0.679982\n",
      "Name: 1, dtype: object\n",
      "\n",
      "\n",
      "Best accuracy for Ridge:\n",
      " RegularizationType          l2\n",
      "Lambda                       1\n",
      "Accuracy              0.676002\n",
      "Name: 5, dtype: object\n"
     ]
    }
   ],
   "source": [
    "regularizationData = pd.DataFrame({'RegularizationType': regularizationTypeList,\n",
    "                                   'Lambda': lambdaValuesList,\n",
    "                                   'Accuracy':accuracy})\n",
    "print(\"The accuracy for ridge/lasso regularizations over the various lambda:\\n\",\n",
    "      regularizationData)\n",
    "\n",
    "l1 = regularizationData[regularizationData[\"RegularizationType\"]=='l1']\n",
    "l1Best = l1.iloc[l1[\"Accuracy\"].idxmax()]\n",
    "\n",
    "l2 = regularizationData[regularizationData[\"RegularizationType\"]=='l2'].reset_index(drop=True)\n",
    "l2Best = l2.iloc[l2[\"Accuracy\"].idxmax()]\n",
    "\n",
    "print(\"\\n\\nBest accuracy for Lasso:\\n\",l1Best)\n",
    "print(\"\\n\\nBest accuracy for Ridge:\\n\",l2Best)"
   ]
  },
  {
   "cell_type": "code",
   "execution_count": 638,
   "metadata": {},
   "outputs": [
    {
     "data": {
      "image/png": "[encoded data removed]",
      "text/plain": [
       "<Figure size 432x288 with 1 Axes>"
      ]
     },
     "metadata": {
      "needs_background": "light"
     },
     "output_type": "display_data"
    }
   ],
   "source": [
    "#Plotting the accuracy against lambda for each type of penalty/regularization\n",
    "# create an index for each tick position\n",
    "xi = [i for i in range(0, len(lambdaValues))]\n",
    "\n",
    "#Plotting for Lasso\n",
    "plt.plot(xi, \n",
    "         regularizationData[regularizationData[\"RegularizationType\"]=='l1'].Accuracy,\n",
    "        marker='o', linestyle='--', color='r', label='Lasso (l1)')\n",
    "\n",
    "#Plotting for Ridge\n",
    "plt.plot(xi, \n",
    "         regularizationData[regularizationData[\"RegularizationType\"]=='l2'].Accuracy,\n",
    "        marker='o', linestyle='--', color='b', label='Ridge (l2)')\n",
    "\n",
    "plt.xticks(xi, np.asarray(lambdaValues), rotation = 40)\n",
    "plt.title('Lasso Regression(l1) vs Ridge Regression (l2)')\n",
    "plt.legend()\n",
    "plt.xlabel('lambda')\n",
    "plt.ylabel('Accuracy')\n",
    "plt.show()"
   ]
  },
  {
   "cell_type": "markdown",
   "metadata": {},
   "source": [
    "From above it is clear that the the accuracy of the Ridge regularization is better than that of the Lasso regularization in general. It is also interesting to note the sudden drop in accuracy for Lasso regularization for higher lambda values (>100)."
   ]
  },
  {
   "cell_type": "markdown",
   "metadata": {},
   "source": [
    "## 4. Naive Bayes"
   ]
  },
  {
   "cell_type": "code",
   "execution_count": 639,
   "metadata": {},
   "outputs": [],
   "source": [
    "def calculateAccuracyScore2(yTrue, yPredicted):\n",
    "    \n",
    "    yPredicted = np.asarray(yPredicted)\n",
    "    yTrue = np.asarray(yTrue)\n",
    "    \n",
    "    # This function is an exact replica of the calculateAccuracyScore function defined above except of the line:\n",
    "    # yPredicted = np.where(yPredicted > 0.5, 1, 0). This line throws an error when used for non-linear models\n",
    "    \n",
    "    truePositives = 0\n",
    "    falsePositives = 0\n",
    "    trueNegatives = 0\n",
    "    falseNegatives = 0\n",
    "     \n",
    "    # Caclculating the confusion matrix    \n",
    "    for i in range(0, len(yTrue)):\n",
    "        if (yPredicted[i] == 1):\n",
    "            if (yPredicted[i] == yTrue[i]):\n",
    "                truePositives += 1\n",
    "            else:\n",
    "                falsePositives += 1\n",
    "        else:\n",
    "            if (yPredicted[i] == yTrue[i]):\n",
    "                trueNegatives += 1\n",
    "            else:\n",
    "                falseNegatives += 1\n",
    "    \n",
    "    # Caclculating the accuracy\n",
    "    accuracy = (truePositives + trueNegatives) / (truePositives + trueNegatives + falsePositives + falseNegatives)    \n",
    "    return accuracy"
   ]
  },
  {
   "cell_type": "code",
   "execution_count": 640,
   "metadata": {},
   "outputs": [],
   "source": [
    "#Make a scorer from a performance metric or loss function. Same as the score function defined above\n",
    "score2 = make_scorer(calculateAccuracyScore2, greater_is_better=True)"
   ]
  },
  {
   "cell_type": "code",
   "execution_count": 641,
   "metadata": {},
   "outputs": [],
   "source": [
    "#This function return the train data set based on the the value of df_min which considers the terms to be included \n",
    "#as features only if they are present more than a minimum threshold which is given by df_min (input) \n",
    "#in the CountVectorizer function\n",
    "\n",
    "def trainMinFreq(n):\n",
    "    newDataFrame = original_train\n",
    "    a = newDataFrame[\"quote\"]\n",
    "\n",
    "    vec = CountVectorizer(min_df = n, #ignore terms that have a document frequency strictly lower than min_df.\n",
    "                          binary=True)\n",
    "    x = vec.fit_transform(a)\n",
    "\n",
    "    #Constructing a new data frame where each row corresponds to each review, and the features\n",
    "    #are all the words on the bag of words\n",
    "    bowDF = pd.DataFrame(x.toarray())\n",
    "    bowDF.columns = vec.get_feature_names()\n",
    "\n",
    "    #Concating the train data with this bag of words data frame\n",
    "    newDataFrame = pd.concat([newDataFrame[\"freshOrRotten\"].reset_index(drop=True),bowDF], axis = 1)\n",
    "    #print(\"\\nN:\",n)\n",
    "    return (newDataFrame)"
   ]
  },
  {
   "cell_type": "code",
   "execution_count": 642,
   "metadata": {},
   "outputs": [],
   "source": [
    "#This list contains the minimum number of times a word is present in the data\n",
    "#This will be passed to the CountVectorizer function to build the corresponding training set\n",
    "minFrequency = [1,5,10,15,20]\n",
    "\n",
    "#The different values of alpha\n",
    "alpha = [1,3,5,7,9]\n",
    "\n",
    "minFrequencyList = [] #Empty list to store the minimum frequency hyperparameter\n",
    "alphaList = []        #Empty list to store the alpha value hyperparameter\n",
    "numOfTerms = []       #Empty list to store the total number of reatures in the model\n",
    "accuracy = []         #Empty list to store the accuracy\n",
    "\n",
    "for i in minFrequency:\n",
    "    train = trainMinFreq(i)\n",
    "    #I am sampling the data because the entire training data is too much for my computer to handle\n",
    "    sampleTrain = train.sample(n=2000, random_state=1)\n",
    "    y = sampleTrain[\"freshOrRotten\"]\n",
    "    X = sampleTrain.drop(\"freshOrRotten\",axis=1)\n",
    "    \n",
    "    for j in alpha:              \n",
    "        mNB = MultinomialNB(alpha=j).fit(X, y)\n",
    "\n",
    "        #Calculating the cross-validation results\n",
    "        results = cross_validate(mNB,   #The object to use to fit the data. This must be from the sk library only.\n",
    "                                 X,     #Features in the dataset\n",
    "                                 y,     #Predictor variable; \"freshOrRotten\" variable in the dataset\n",
    "                                 scoring=score2, #supplying your own accuracy function for scoring\n",
    "                                 cv=5, #for stratified n-fold\n",
    "                                 return_train_score=False) #Not including train scores\n",
    "        \n",
    "        minFrequencyList.append(i)\n",
    "        numOfTerms.append(len(X.columns))\n",
    "        alphaList.append(j)\n",
    "        accuracy.append(np.mean(results['test_score']))\n",
    "        \n",
    "        "
   ]
  },
  {
   "cell_type": "code",
   "execution_count": 643,
   "metadata": {},
   "outputs": [
    {
     "name": "stdout",
     "output_type": "stream",
     "text": [
      "The accuracy of the Multinomial NB model over the various df_min and alpha is:\n",
      "     df_min  numberOfTerms  alpha  accuracy\n",
      "0        1          18314      1    0.6725\n",
      "1        1          18314      3    0.6240\n",
      "2        1          18314      5    0.6135\n",
      "3        1          18314      7    0.6080\n",
      "4        1          18314      9    0.6080\n",
      "5        5           4548      1    0.6840\n",
      "6        5           4548      3    0.6705\n",
      "7        5           4548      5    0.6425\n",
      "8        5           4548      7    0.6280\n",
      "9        5           4548      9    0.6150\n",
      "10      10           2348      1    0.6860\n",
      "11      10           2348      3    0.6830\n",
      "12      10           2348      5    0.6625\n",
      "13      10           2348      7    0.6440\n",
      "14      10           2348      9    0.6320\n",
      "15      15           1594      1    0.6885\n",
      "16      15           1594      3    0.6880\n",
      "17      15           1594      5    0.6800\n",
      "18      15           1594      7    0.6585\n",
      "19      15           1594      9    0.6430\n",
      "20      20           1187      1    0.6805\n",
      "21      20           1187      3    0.6740\n",
      "22      20           1187      5    0.6730\n",
      "23      20           1187      7    0.6625\n",
      "24      20           1187      9    0.6450\n",
      "\n",
      "\n",
      "Best multinomial NB model with the highest accuracy has the following hyperparameters:\n",
      " df_min             15.0000\n",
      "numberOfTerms    1594.0000\n",
      "alpha               1.0000\n",
      "accuracy            0.6885\n",
      "Name: 15, dtype: float64\n"
     ]
    }
   ],
   "source": [
    "#Collating the findings in a data-frame\n",
    "nbData = pd.DataFrame({'df_min': minFrequencyList,\n",
    "                       'numberOfTerms': numOfTerms,\n",
    "                       'alpha':alphaList,\n",
    "                       'accuracy':accuracy})\n",
    "\n",
    "print(\"The accuracy of the Multinomial NB model over the various df_min and alpha is:\\n\",\n",
    "      nbData)\n",
    "\n",
    "#Getting the best model\n",
    "bestModel = nbData.iloc[nbData[\"accuracy\"].idxmax()]\n",
    "\n",
    "print(\"\\n\\nBest multinomial NB model with the highest accuracy has the following hyperparameters:\\n\",bestModel)"
   ]
  },
  {
   "cell_type": "code",
   "execution_count": 644,
   "metadata": {},
   "outputs": [
    {
     "data": {
      "image/png": "[encoded data removed]",
      "text/plain": [
       "<Figure size 432x288 with 1 Axes>"
      ]
     },
     "metadata": {
      "needs_background": "light"
     },
     "output_type": "display_data"
    }
   ],
   "source": [
    "#Plotting the findings on a plot\n",
    "fig, ax = plt.subplots()\n",
    " \n",
    "for key, group in nbData.groupby('df_min'):\n",
    "    group.plot('alpha','accuracy', marker='o', linestyle='-', label=key, ax=ax)\n",
    "\n",
    "plt.ylabel(\"accuracy\")\n",
    "plt.title('Alpha vs accuracy for various df_min')\n",
    "plt.legend(title=\"df_min\")\n",
    "plt.show()"
   ]
  },
  {
   "cell_type": "markdown",
   "metadata": {},
   "source": [
    "Thus, from the above analyses it is clear that for the Naive Bayes Classification:\n",
    "* Accuracy decreases with an increase in the alpha values\n",
    "* Accuracy increases with an increase in the minimum number (df_min) of times a word is present in the data to be considered as a feature"
   ]
  },
  {
   "cell_type": "markdown",
   "metadata": {},
   "source": [
    "## 5. Trees and forests"
   ]
  },
  {
   "cell_type": "code",
   "execution_count": 646,
   "metadata": {},
   "outputs": [],
   "source": [
    "#this is preparing the data\n",
    "train = original_train\n",
    "a = train[\"quote\"]\n",
    "\n",
    "vec = CountVectorizer(binary=True)\n",
    "x = vec.fit_transform(a)\n",
    "\n",
    "#Constructing a new data frame where each row corresponds to each review, and the features\n",
    "#are all the words on the bag of words\n",
    "bowDF = pd.DataFrame(x.toarray())\n",
    "bowDF.columns = vec.get_feature_names()\n",
    "\n",
    "#Concating the train data with this bag of words data frame\n",
    "train = pd.concat([train[\"freshOrRotten\"].reset_index(drop=True),bowDF], axis = 1)\n",
    "\n",
    "sampleTrain = train.sample(n=1000, random_state=1)\n",
    "y = sampleTrain[\"freshOrRotten\"]\n",
    "X = sampleTrain.drop(\"freshOrRotten\",axis=1)\n",
    "\n",
    "def classifier(classifier = \"Decision Trees\"):\n",
    "   \n",
    "    #This function performs the operations for parts 5.1 and 5.2. The code for decision methods is \n",
    "    #essentially the same except for the classifier use. The hyperparameters are also the same.\n",
    "    \n",
    "    #This list contains the minimu impurity decrease\n",
    "    impurity = [round(1e-5 * 10**i,6) for i in range(5)]\n",
    "\n",
    "    #This list contains the various depths as stopping parameter\n",
    "    depth = [2,4,6,8]\n",
    "\n",
    "    impurityList = [] #Empty list to store the various minimum impurity values\n",
    "    depthList = []    #Empty list to store the various maximum depth values\n",
    "    accuracy = []     #Empty list to store the accuracy\n",
    "\n",
    "    for i in impurity:\n",
    "        for j in depth:\n",
    "            if(classifier == \"Decision Trees\"): #For Decission Tree Classifier\n",
    "                mDT = DecisionTreeClassifier(min_impurity_decrease=i, max_depth=j).fit(X, y)\n",
    "            else: #For Random Forest Classifier\n",
    "                mDT = RandomForestClassifier(min_impurity_decrease=i, max_depth=j).fit(X, y)\n",
    "\n",
    "            #Calculating the cross-validation results\n",
    "            resultDT = cross_validate(mDT,   #The object to use to fit the data. \n",
    "                                     X,     #Features in the dataset\n",
    "                                     y,     #Predictor variable; \"freshOrRotten\" variable in the dataset\n",
    "                                     scoring=score2, #supplying your own accuracy function for scoring\n",
    "                                     cv=5, #for stratified n-fold\n",
    "                                     return_train_score=False) #Not including train scores\n",
    "\n",
    "            impurityList.append(i)\n",
    "            depthList.append(j)\n",
    "            accuracy.append(np.mean(resultDT['test_score']))\n",
    "            \n",
    "    \n",
    "    #Collating the fidings in a data frame\n",
    "    dtData = pd.DataFrame({'min_impurity_decrease': impurityList,\n",
    "                       'max_depth': depthList,\n",
    "                       'accuracy':accuracy})\n",
    "    \n",
    "    if(classifier == \"Decision Trees\"):\n",
    "        s = \"Decision Tree Classifier\"\n",
    "    else:\n",
    "        s = \"Random Forest Classifier\"\n",
    "    print(\"The accuracy of the\",s,\" model over the various impurity and depth values is:\\n\",\n",
    "          dtData)\n",
    "\n",
    "    #printing the best model\n",
    "    bestModel = dtData.iloc[dtData[\"accuracy\"].idxmax()]\n",
    "\n",
    "    print(\"\\n\\nBest\",s,\" model with the highest accuracy has the following hyperparameters:\\n\",\n",
    "          bestModel)\n",
    "    \n",
    "    #Plotting the findings on a plot\n",
    "    fig, ax = plt.subplots()\n",
    "\n",
    "    xi = [i for i in range(0, len(dtData.min_impurity_decrease.unique()))]\n",
    "\n",
    "    for key, group in dtData.groupby('max_depth'):\n",
    "        #xi = [i for i in range(0, len(group))]\n",
    "        group = group.reset_index(drop=True)\n",
    "        group = group.reset_index()\n",
    "        group.plot(\"index\",\"accuracy\", marker='o', linestyle='-', label=key, xticks=group.index, ax=ax)\n",
    "\n",
    "    plt.ylabel(\"accuracy\")\n",
    "    plt.xlabel(\"min_impurity_decrease\")\n",
    "    plt.xticks(xi, np.asarray(dtData.min_impurity_decrease.unique()))\n",
    "\n",
    "    if(classifier == \"Decision Trees\"): #For Decission Tree Classifier\n",
    "        t = 'min_impurity_decrease vs accuracy for various df_min for Decision Tree classifier'\n",
    "    else: #For Random Forest Classifier\n",
    "        t = 'min_impurity_decrease vs accuracy for various df_min for Random Forest classifier'\n",
    "\n",
    "    plt.title(t)\n",
    "    plt.legend(title=\"max_depth\")\n",
    "    plt.show()"
   ]
  },
  {
   "cell_type": "markdown",
   "metadata": {},
   "source": [
    "### 5.1 Decision Trees"
   ]
  },
  {
   "cell_type": "code",
   "execution_count": 647,
   "metadata": {},
   "outputs": [
    {
     "name": "stdout",
     "output_type": "stream",
     "text": [
      "The accuracy of the Decision Tree Classifier  model over the various impurity and depth values is:\n",
      "     min_impurity_decrease  max_depth  accuracy\n",
      "0                 0.00001          2  0.617011\n",
      "1                 0.00001          4  0.622001\n",
      "2                 0.00001          6  0.624986\n",
      "3                 0.00001          8  0.610996\n",
      "4                 0.00010          2  0.616011\n",
      "5                 0.00010          4  0.623006\n",
      "6                 0.00010          6  0.623981\n",
      "7                 0.00010          8  0.607976\n",
      "8                 0.00100          2  0.616011\n",
      "9                 0.00100          4  0.622001\n",
      "10                0.00100          6  0.617971\n",
      "11                0.00100          8  0.609981\n",
      "12                0.01000          2  0.609001\n",
      "13                0.01000          4  0.609001\n",
      "14                0.01000          6  0.609001\n",
      "15                0.01000          8  0.609001\n",
      "16                0.10000          2  0.611001\n",
      "17                0.10000          4  0.611001\n",
      "18                0.10000          6  0.611001\n",
      "19                0.10000          8  0.611001\n",
      "\n",
      "\n",
      "Best Decision Tree Classifier  model with the highest accuracy has the following hyperparameters:\n",
      " min_impurity_decrease    0.000010\n",
      "max_depth                6.000000\n",
      "accuracy                 0.624986\n",
      "Name: 2, dtype: float64\n"
     ]
    },
    {
     "data": {
      "image/png": "[encoded data removed]",
      "text/plain": [
       "<Figure size 432x288 with 1 Axes>"
      ]
     },
     "metadata": {
      "needs_background": "light"
     },
     "output_type": "display_data"
    }
   ],
   "source": [
    "classifier(\"Decision Trees\")"
   ]
  },
  {
   "cell_type": "markdown",
   "metadata": {},
   "source": [
    "From above we can observe that for the decision tree classifier:\n",
    "* Accuracy increasess with an increase in the value of min_impurity_decrease\n",
    "* Accuracy decreases with increase in depth, although that might also lead to overfitting of the data."
   ]
  },
  {
   "cell_type": "markdown",
   "metadata": {},
   "source": [
    "### 5.2 Random Forest"
   ]
  },
  {
   "cell_type": "code",
   "execution_count": 649,
   "metadata": {},
   "outputs": [
    {
     "name": "stdout",
     "output_type": "stream",
     "text": [
      "The accuracy of the Random Forest Classifier  model over the various impurity and depth values is:\n",
      "     min_impurity_decrease  max_depth  accuracy\n",
      "0                 0.00001          2  0.611001\n",
      "1                 0.00001          4  0.612001\n",
      "2                 0.00001          6  0.613001\n",
      "3                 0.00001          8  0.613006\n",
      "4                 0.00010          2  0.610001\n",
      "5                 0.00010          4  0.611001\n",
      "6                 0.00010          6  0.615001\n",
      "7                 0.00010          8  0.615021\n",
      "8                 0.00100          2  0.611001\n",
      "9                 0.00100          4  0.611996\n",
      "10                0.00100          6  0.613996\n",
      "11                0.00100          8  0.614021\n",
      "12                0.01000          2  0.611001\n",
      "13                0.01000          4  0.611001\n",
      "14                0.01000          6  0.611001\n",
      "15                0.01000          8  0.611001\n",
      "16                0.10000          2  0.611001\n",
      "17                0.10000          4  0.611001\n",
      "18                0.10000          6  0.611001\n",
      "19                0.10000          8  0.611001\n",
      "\n",
      "\n",
      "Best Random Forest Classifier  model with the highest accuracy has the following hyperparameters:\n",
      " min_impurity_decrease    0.000100\n",
      "max_depth                8.000000\n",
      "accuracy                 0.615021\n",
      "Name: 7, dtype: float64\n"
     ]
    },
    {
     "data": {
      "image/png": "[encoded data removed]",
      "text/plain": [
       "<Figure size 432x288 with 1 Axes>"
      ]
     },
     "metadata": {
      "needs_background": "light"
     },
     "output_type": "display_data"
    }
   ],
   "source": [
    "classifier(\"Random Forest\")"
   ]
  },
  {
   "cell_type": "markdown",
   "metadata": {},
   "source": [
    "From above we can observe that for the random forest classifier:\n",
    "* Overall accuracy has increased as compared to the decision tree classifier\n",
    "* Accuracy increasess with an increase in the value of min_impurity_decrease\n",
    "* Accuracy decreases with increase in depth, although that might also lead to overfitting of the data."
   ]
  },
  {
   "cell_type": "markdown",
   "metadata": {},
   "source": [
    "min_impurity_decrease specifies A node will be split if this split induces a decrease of the impurity greater than or equal to this value."
   ]
  },
  {
   "cell_type": "markdown",
   "metadata": {},
   "source": [
    "### 5.3 ADA Boost"
   ]
  },
  {
   "cell_type": "code",
   "execution_count": 650,
   "metadata": {},
   "outputs": [],
   "source": [
    "#This list contains the minimu impurity decrease\n",
    "nEstimators = [25,50,75,100,125]\n",
    "\n",
    "#This list contains the various depths as stopping parameter\n",
    "learningRate = [0.1,0.3,0.5,0.7,0.9]\n",
    "\n",
    "learningRateList = [] #Empty list to store the various minimum impurity values\n",
    "nEstimatorsList = []    #Empty list to store the various maximum depth values\n",
    "accuracy = []     #Empty list to store the accuracy\n",
    "\n",
    "for i in nEstimators:\n",
    "    for j in learningRate:       \n",
    "            mAB = AdaBoostClassifier(n_estimators=i, learning_rate=j).fit(X, y)\n",
    "\n",
    "            #Calculating the cross-validation results\n",
    "            resultAB = cross_validate(mAB,   #The object to use to fit the data. \n",
    "                                     X,     #Features in the dataset\n",
    "                                     y,     #Predictor variable; \"freshOrRotten\" variable in the dataset\n",
    "                                     scoring=score2, #supplying your own accuracy function for scoring\n",
    "                                     cv=5, #for stratified n-fold\n",
    "                                     return_train_score=False) #Not including train scores\n",
    "\n",
    "            nEstimatorsList.append(i)\n",
    "            learningRateList.append(j)\n",
    "            accuracy.append(np.mean(resultAB['test_score']))"
   ]
  },
  {
   "cell_type": "code",
   "execution_count": 651,
   "metadata": {},
   "outputs": [
    {
     "name": "stdout",
     "output_type": "stream",
     "text": [
      "The accuracy of the ADA Boost classifier model over the various n_estimators and learning rate values is:\n",
      "     n_estimators  learning_rate  accuracy\n",
      "0             25            0.1  0.618011\n",
      "1             25            0.3  0.630006\n",
      "2             25            0.5  0.622016\n",
      "3             25            0.7  0.625996\n",
      "4             25            0.9  0.625986\n",
      "5             50            0.1  0.629016\n",
      "6             50            0.3  0.642007\n",
      "7             50            0.5  0.633042\n",
      "8             50            0.7  0.645017\n",
      "9             50            0.9  0.633971\n",
      "10            75            0.1  0.635012\n",
      "11            75            0.3  0.636002\n",
      "12            75            0.5  0.641982\n",
      "13            75            0.7  0.643997\n",
      "14            75            0.9  0.628952\n",
      "15           100            0.1  0.633012\n",
      "16           100            0.3  0.637987\n",
      "17           100            0.5  0.638972\n",
      "18           100            0.7  0.642992\n",
      "19           100            0.9  0.624952\n",
      "20           125            0.1  0.638997\n",
      "21           125            0.3  0.638967\n",
      "22           125            0.5  0.637982\n",
      "23           125            0.7  0.630962\n",
      "24           125            0.9  0.614902\n",
      "\n",
      "\n",
      "Best ADA Boost classifier model with the highest accuracy has the following hyperparameters:\n",
      " n_estimators     50.000000\n",
      "learning_rate     0.700000\n",
      "accuracy          0.645017\n",
      "Name: 8, dtype: float64\n"
     ]
    }
   ],
   "source": [
    "#Collating the fidings in a data frame\n",
    "adaData = pd.DataFrame({'n_estimators': nEstimatorsList,\n",
    "                       'learning_rate': learningRateList,\n",
    "                       'accuracy':accuracy})\n",
    "\n",
    "print(\"The accuracy of the ADA Boost classifier model over the various n_estimators and learning rate values is:\\n\",\n",
    "      adaData)\n",
    "\n",
    "#printing the best model\n",
    "bestModel = adaData.iloc[adaData[\"accuracy\"].idxmax()]\n",
    "\n",
    "print(\"\\n\\nBest ADA Boost classifier model with the highest accuracy has the following hyperparameters:\\n\",\n",
    "      bestModel)"
   ]
  },
  {
   "cell_type": "code",
   "execution_count": 652,
   "metadata": {},
   "outputs": [
    {
     "data": {
      "image/png": "[encoded data removed]",
      "text/plain": [
       "<Figure size 432x288 with 1 Axes>"
      ]
     },
     "metadata": {
      "needs_background": "light"
     },
     "output_type": "display_data"
    }
   ],
   "source": [
    "#Plotting the findings on a plot\n",
    "fig, ax = plt.subplots()\n",
    " \n",
    "for key, group in adaData.groupby('n_estimators'):\n",
    "    group.plot('learning_rate','accuracy', marker='o', linestyle='-', label=key, ax=ax)\n",
    "\n",
    "plt.ylabel(\"accuracy\")\n",
    "plt.title('Learning rate vs accuracy for various n_estimators')\n",
    "plt.legend(title=\"n_estimators\")\n",
    "plt.show()"
   ]
  },
  {
   "cell_type": "markdown",
   "metadata": {},
   "source": [
    "From above we see that for the ADA Boost classifier:\n",
    "* Accuracy increases with an increase in the number of estimators\n",
    "* Accuracy almost always first increases with the learning rate then it decreases\n",
    "* There seems to be a tradeoff between the learning rate and the number of estimators\n",
    "* This tradeoff seems intuitive because of the bias variance tradeoff. For the same number of iterations, a small learning rate is \"under-fitting\" (or the model has \"high bias\"), and a large learning rate is \"over-fitting\" (or the model has \"high variance\").\n",
    "\n"
   ]
  },
  {
   "cell_type": "markdown",
   "metadata": {},
   "source": [
    "## 6. Final things"
   ]
  },
  {
   "cell_type": "markdown",
   "metadata": {},
   "source": [
    "#### Reflect what did you do and what did you find. Which methods were good? Which ones were bad? Can you explain why?\n",
    "\n",
    "I classified the reviews in the rotten tomatoes data set to determine if they are *fresh* or *rotten*. This was done by vectorizing each of the reviews and then one-hot encoding each word as a feature. This was rather a crude method to perform because we did not take into account other things that are important for text analysis such as removing stop words, stemming the words, lemmazitaion and formin n-grams. Through this exercise we trained our model to determine if the review was fresh or rotten depending upon the presence of each word in the review.\n",
    "\n",
    "After a comprehensive analysis, I realize that most of the linear models are not perfect for this kind of classification. The worst performing linear model was the linear regression. Understandably so, because it predicted the probability of a review being fresh or rotten. Now, in linear regression, this probability was not an actual probability as it's range was not between 0 and 1. This was the most useless method for this type of a classification problem. Also, I found forward selection, in this particular case to be useless because of the ridiculous amount of time it took to run. Theoritically, I understand that it would improve the accuracy, but this method is computationally extensive. Another way in which we can reduce the number of features is the Principal Compoent Analysis (PCA). Regularization of a logistic model also had a recent run-time.\n",
    "\n",
    "Logistic regression was still better as it had a better accuracy. This actually predicted the probabilities because of calculation of the logit. Subsequent improvements were seen when we performed the forward selection and the regularization on the logistic regression.\n",
    "\n",
    "Naive Bayes was the best model (high accuracy) in this analysis. The ensemble methods, decision trees, random forests and ADA boost were pkay because they did not result in a greater accuracy than as compared to the linear models although I was expecting it to be the case. ADA boost took the longest time to run on my computer.\n",
    "\n",
    "Lastly, it is important to note that the performance of all the above models is not perfect given the fact that the training data was particularly small (about 1000 observations) given the limited computing power of my laptop. I am certain we would definitely find better accuracy if more observations are taken into consideration when training the model."
   ]
  },
  {
   "cell_type": "markdown",
   "metadata": {},
   "source": [
    "#### Pick your favorite method. It is normally the one that gave you the best CV score, but in case that method caused other troubles (too slow, computer crashed, ...) you may opt for something else.\n",
    "\n",
    "Naive Bayes classifier is my favorite model here because:\n",
    "* It produced the highest test accuracy (about 70%)\n",
    "* It running time was also low as compared to the other models. I was also able fit a larger sample size (~2000 observations) to the model.\n",
    "* In particular, the NB model wherein alpha = 1 and df_min was 15, had the best prformance.\n",
    "\n",
    "Thus I'll be considering this model."
   ]
  },
  {
   "cell_type": "markdown",
   "metadata": {},
   "source": [
    "#### Fit the model using the cross-validated optimal hyperparameters using your complete work data (both training and validation). This is your best and final model."
   ]
  },
  {
   "cell_type": "code",
   "execution_count": 653,
   "metadata": {},
   "outputs": [
    {
     "name": "stdout",
     "output_type": "stream",
     "text": [
      "Train Accuracy of this Naive Bayes Classifier model 0.6885000000000001\n"
     ]
    }
   ],
   "source": [
    "train = trainMinFreq(15)\n",
    "sampleTrain = train.sample(n=2000, random_state=1)\n",
    "y = sampleTrain[\"freshOrRotten\"]\n",
    "X = sampleTrain.drop(\"freshOrRotten\",axis=1)\n",
    " \n",
    "#Naive Bayes Classifier    \n",
    "mNB = MultinomialNB(alpha=1).fit(X, y)\n",
    "\n",
    "#Calculating the cross-validation results\n",
    "results = cross_validate(mNB,   #The object to use to fit the data. This must be from the sk library only.\n",
    "                         X,     #Features in the dataset\n",
    "                         y,     #Predictor variable; \"freshOrRotten\" variable in the dataset\n",
    "                         scoring=score2, #supplying your own accuracy function for scoring\n",
    "                         cv=5, #for stratified n-fold\n",
    "                         return_train_score=False) #Not including train scores\n",
    "\n",
    "   \n",
    "print(\"Train Accuracy of this Naive Bayes Classifier model\",np.mean(results['test_score']))"
   ]
  },
  {
   "cell_type": "markdown",
   "metadata": {},
   "source": [
    "#### Load your testing data. Clean it using exactly the same procedure (you made a function for this, right?) and transform it into BOW-s."
   ]
  },
  {
   "cell_type": "code",
   "execution_count": 654,
   "metadata": {},
   "outputs": [],
   "source": [
    "#Loading the test data\n",
    "test = pd.read_csv(path+\"/test.csv\")\n",
    "\n",
    "#Cleaning the test data\n",
    "test = cleanData(test)"
   ]
  },
  {
   "cell_type": "code",
   "execution_count": 655,
   "metadata": {},
   "outputs": [],
   "source": [
    "a = test[\"quote\"]\n",
    "\n",
    "vec = CountVectorizer(min_df = 15, #This is 15 because in the train data we transformed the data keeping mi_df = 15\n",
    "                      vocabulary = X.columns, #Keeping the same words as that in the train dataset\n",
    "                      binary=True) #One-hot encoding of each word\n",
    "x = vec.transform(a)\n",
    "\n",
    "#Constructing a new data frame where each row corresponds to each review, and the features\n",
    "#are all the words on the bag of words\n",
    "bowDF = pd.DataFrame(x.toarray())\n",
    "bowDF.columns = vec.get_feature_names()\n",
    "\n",
    "#Concating the train data with this bag of words data frame\n",
    "test = pd.concat([test[\"freshOrRotten\"].reset_index(drop=True),bowDF], axis = 1)#,ignore_index=True)"
   ]
  },
  {
   "cell_type": "code",
   "execution_count": 656,
   "metadata": {},
   "outputs": [],
   "source": [
    "#Retrieving the freshOrRotten column from the test data\n",
    "yTrue = test[\"freshOrRotten\"]\n",
    "\n",
    "#Transforming the test data by dropping the target varaible\n",
    "test = test.drop(\"freshOrRotten\",axis=1)"
   ]
  },
  {
   "cell_type": "code",
   "execution_count": 657,
   "metadata": {},
   "outputs": [],
   "source": [
    "#Calculating the predicted target variable from the NB classifier model trained above\n",
    "yPredicted = mNB.predict(test)"
   ]
  },
  {
   "cell_type": "code",
   "execution_count": 658,
   "metadata": {},
   "outputs": [
    {
     "name": "stdout",
     "output_type": "stream",
     "text": [
      "Accuracy on the test data when using the multinomial Naive Bayes Classifier 0.7106299212598425\n"
     ]
    }
   ],
   "source": [
    "#Printing the test accuracy\n",
    "print(\"Accuracy on the test data when using the multinomial Naive Bayes Classifier\"\n",
    "      ,calculateAccuracyScore2(yTrue,yPredicted))"
   ]
  }
 ],
 "metadata": {
  "kernelspec": {
   "display_name": "Python 3",
   "language": "python",
   "name": "python3"
  },
  "language_info": {
   "codemirror_mode": {
    "name": "ipython",
    "version": 3
   },
   "file_extension": ".py",
   "mimetype": "text/x-python",
   "name": "python",
   "nbconvert_exporter": "python",
   "pygments_lexer": "ipython3",
   "version": "3.7.1"
  }
 },
 "nbformat": 4,
 "nbformat_minor": 2
}
